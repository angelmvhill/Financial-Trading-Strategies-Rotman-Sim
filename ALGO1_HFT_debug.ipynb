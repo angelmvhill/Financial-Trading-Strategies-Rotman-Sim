{
 "cells": [
  {
   "cell_type": "code",
   "execution_count": 24,
   "metadata": {},
   "outputs": [],
   "source": [
    "import requests\n",
    "import json\n",
    "API_KEY = {'X-API-Key': 'KZJ94OPT'}\n",
    "s = requests.Session()\n",
    "s.headers.update(API_KEY)"
   ]
  },
  {
   "cell_type": "code",
   "execution_count": 28,
   "metadata": {},
   "outputs": [],
   "source": [
    "class ApiException(Exception):\n",
    "    pass\n",
    "\n",
    "class HelperFunctions():\n",
    "    \n",
    "    def __init__(self):\n",
    "        pass\n",
    "\n",
    "    def ticker_bid_ask(self, session, ticker):\n",
    "        payload = {'ticker': ticker}\n",
    "        resp = session.get('http://localhost:9999/v1/securities/book', params=payload)  \n",
    "        if resp.ok:\n",
    "            book = resp.json()\n",
    "            return book['bids'][0]['price'], book['asks'][0]['price']\n",
    "        raise ApiException('Error getting bid / ask: The API key provided in this Python code must match that in the RIT client')"
   ]
  },
  {
   "cell_type": "markdown",
   "metadata": {},
   "source": [
    "### Get Bid / Ask Price"
   ]
  },
  {
   "cell_type": "code",
   "execution_count": 51,
   "metadata": {},
   "outputs": [
    {
     "name": "stdout",
     "output_type": "stream",
     "text": [
      "10.28 10.3 10.24 10.27\n",
      "85200.0 106200.0 106800.0 7000.0\n"
     ]
    }
   ],
   "source": [
    "\n",
    "# send order\n",
    "# s.post('http://localhost:9999/v1/orders',params={'ticker': 'CRZY_A', 'type': 'MARKET', 'quantity': -1000, 'action': 'BUY'})\n",
    "\n",
    "bid_ask_A = s.get('http://localhost:9999/v1/securities/book', params={'ticker': 'CRZY_A', 'limit': 1})\n",
    "bid_ask_M = s.get('http://localhost:9999/v1/securities/book', params={'ticker': 'CRZY_M', 'limit': 1})\n",
    "\n",
    "CRZY_A_bid_price = bid_ask_A.json()['bids'][0]['price']\n",
    "CRZY_A_ask_price = bid_ask_A.json()['asks'][0]['price']\n",
    "CRZY_M_bid_price = bid_ask_M.json()['bids'][0]['price']\n",
    "CRZY_M_ask_price = bid_ask_M.json()['asks'][0]['price']\n",
    "\n",
    "CRZY_A_bid_quantity_total = bid_ask_A.json()['bids'][0]['quantity']\n",
    "CRZY_A_ask_quantity_total = bid_ask_A.json()['asks'][0]['quantity']\n",
    "CRZY_M_bid_quantity_total = bid_ask_M.json()['bids'][0]['quantity']\n",
    "CRZY_M_ask_quantity_total = bid_ask_M.json()['asks'][0]['quantity']\n",
    "\n",
    "CRZY_A_bid_quantity_filled = bid_ask_A.json()['bids'][0]['quantity_filled']\n",
    "CRZY_A_ask_quantity_filled = bid_ask_A.json()['asks'][0]['quantity_filled']\n",
    "CRZY_M_bid_quantity_filled = bid_ask_M.json()['bids'][0]['quantity_filled']\n",
    "CRZY_M_ask_quantity_filled = bid_ask_M.json()['asks'][0]['quantity_filled']\n",
    "\n",
    "CRZY_A_bid_quantity = CRZY_A_bid_quantity_total - CRZY_A_bid_quantity_filled\n",
    "CRZY_A_ask_quantity = CRZY_A_ask_quantity_total - CRZY_A_ask_quantity_filled\n",
    "CRZY_M_bid_quantity = CRZY_M_bid_quantity_total - CRZY_M_bid_quantity_filled\n",
    "CRZY_M_ask_quantity = CRZY_M_ask_quantity_total - CRZY_M_ask_quantity_filled\n",
    "\n",
    "print(CRZY_A_bid_price, CRZY_A_ask_price, CRZY_M_bid_price, CRZY_M_ask_price)\n",
    "print(CRZY_A_bid_quantity, CRZY_A_ask_quantity, CRZY_M_bid_quantity, CRZY_M_ask_quantity)"
   ]
  },
  {
   "cell_type": "code",
   "execution_count": 50,
   "metadata": {},
   "outputs": [
    {
     "data": {
      "text/plain": [
       "{'bids': [{'order_id': 1835,\n",
       "   'period': 1,\n",
       "   'tick': 214,\n",
       "   'trader_id': 'ANON',\n",
       "   'ticker': 'CRZY_M',\n",
       "   'quantity': 88900.0,\n",
       "   'price': 10.43,\n",
       "   'type': 'LIMIT',\n",
       "   'action': 'BUY',\n",
       "   'quantity_filled': 0.0,\n",
       "   'vwap': None,\n",
       "   'status': 'OPEN'}],\n",
       " 'asks': [{'order_id': 1813,\n",
       "   'period': 1,\n",
       "   'tick': 208,\n",
       "   'trader_id': 'ANON',\n",
       "   'ticker': 'CRZY_M',\n",
       "   'quantity': 110400.0,\n",
       "   'price': 10.45,\n",
       "   'type': 'LIMIT',\n",
       "   'action': 'SELL',\n",
       "   'quantity_filled': 80090.0,\n",
       "   'vwap': 10.46999750280934,\n",
       "   'status': 'OPEN'}]}"
      ]
     },
     "execution_count": 50,
     "metadata": {},
     "output_type": "execute_result"
    }
   ],
   "source": [
    "bid_ask_M = s.get('http://localhost:9999/v1/securities/book', params={'ticker': 'CRZY_M', 'limit': 1})\n",
    "bid_ask_M.json()"
   ]
  },
  {
   "cell_type": "code",
   "execution_count": 46,
   "metadata": {},
   "outputs": [
    {
     "data": {
      "text/plain": [
       "(8.38, 8.45)"
      ]
     },
     "execution_count": 46,
     "metadata": {},
     "output_type": "execute_result"
    }
   ],
   "source": [
    "algo1 = HelperFunctions()\n",
    "\n",
    "algo1.ticker_bid_ask(s, 'CRZY_A')\n",
    "\n"
   ]
  },
  {
   "cell_type": "markdown",
   "metadata": {},
   "source": [
    "### Algo Strategy"
   ]
  },
  {
   "cell_type": "code",
   "execution_count": null,
   "metadata": {},
   "outputs": [],
   "source": [
    "if q1 > q2:\n",
    "    quantity = q2\n",
    "else:\n",
    "    quantity = q1\n",
    "\n",
    "if CRZY_alt_bid > "
   ]
  }
 ],
 "metadata": {
  "kernelspec": {
   "display_name": "Python 3.9.13 64-bit (microsoft store)",
   "language": "python",
   "name": "python3"
  },
  "language_info": {
   "name": "python",
   "version": "3.9.13"
  },
  "orig_nbformat": 4,
  "vscode": {
   "interpreter": {
    "hash": "8f2b8f7d7da3b55c8640ff0ad5b752ba61ffdffe564a4378c820bcd9964834b8"
   }
  }
 },
 "nbformat": 4,
 "nbformat_minor": 2
}
