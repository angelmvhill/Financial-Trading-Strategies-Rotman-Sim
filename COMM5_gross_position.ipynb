{
 "cells": [
  {
   "cell_type": "code",
   "execution_count": 1,
   "metadata": {},
   "outputs": [],
   "source": [
    "import requests\n",
    "import json\n",
    "import os\n",
    "from time import sleep\n",
    "API_KEY = {'X-API-Key': 'KZJ94OPT'}\n",
    "s = requests.Session()\n",
    "s.headers.update(API_KEY)"
   ]
  },
  {
   "cell_type": "code",
   "execution_count": 2,
   "metadata": {},
   "outputs": [],
   "source": [
    "class ApiException(Exception):\n",
    "    pass\n",
    "\n",
    "class HelperFunctions():\n",
    "    \n",
    "    def __init__(self):\n",
    "        pass\n",
    "\n",
    "    def ticker_bid_ask(self, session, ticker):\n",
    "        payload = {'ticker': ticker}\n",
    "        resp = session.get('http://localhost:9999/v1/securities/book', params=payload)  \n",
    "        if resp.ok:\n",
    "            book = resp.json()\n",
    "            return book['bids'][0]['price'], book['asks'][0]['price']\n",
    "        raise ApiException('Error getting bid / ask: The API key provided in this Python code must match that in the RIT client')"
   ]
  },
  {
   "cell_type": "code",
   "execution_count": 3,
   "metadata": {},
   "outputs": [],
   "source": [
    "def get_tick(session):\n",
    "    resp = session.get('http://localhost:9999/v1/case')\n",
    "    if resp.status_code == 401:\n",
    "        raise ApiException('Error getting tick: The API key provided in this Python code must match that in the RIT client')\n",
    "    case = resp.json()\n",
    "    return case['tick']"
   ]
  },
  {
   "cell_type": "markdown",
   "metadata": {},
   "source": [
    "1. get gross position\n",
    "    - cl1f + cl2f + cl\n",
    "2. if gross position > 0:\n",
    "    - buy CL or futures first\n",
    "3. if gross position < 0:\n",
    "    - sell CL of futures first"
   ]
  },
  {
   "cell_type": "code",
   "execution_count": 18,
   "metadata": {},
   "outputs": [],
   "source": [
    "cl1f = s.get('http://localhost:9999/v1/securities', params={'ticker': 'CL-1F'})\n",
    "cl2f = s.get('http://localhost:9999/v1/securities', params={'ticker': 'CL-2F'})\n",
    "cl = s.get('http://localhost:9999/v1/securities', params={'ticker': 'CL'})\n",
    "\n",
    "cl1f_position = cl1f.json()[0]['position']\n",
    "cl2f_position = cl2f.json()[0]['position']\n",
    "cl_position = cl.json()[0]['position']\n",
    "\n",
    "# print([cl1f_position, cl2f_position, cl_position])\n",
    "\n",
    "net_position = cl1f_position + cl2f_position + cl_position\n",
    "\n",
    "if net_position > 0:\n",
    "    # sell oil\n",
    "    # buy oil\n",
    "    pass\n",
    "\n",
    "if net_position < 0:\n",
    "    # buy oil\n",
    "    # sell oil\n",
    "    pass"
   ]
  }
 ],
 "metadata": {
  "kernelspec": {
   "display_name": "Python 3.9.13 64-bit (microsoft store)",
   "language": "python",
   "name": "python3"
  },
  "language_info": {
   "codemirror_mode": {
    "name": "ipython",
    "version": 3
   },
   "file_extension": ".py",
   "mimetype": "text/x-python",
   "name": "python",
   "nbconvert_exporter": "python",
   "pygments_lexer": "ipython3",
   "version": "3.9.13"
  },
  "orig_nbformat": 4,
  "vscode": {
   "interpreter": {
    "hash": "8f2b8f7d7da3b55c8640ff0ad5b752ba61ffdffe564a4378c820bcd9964834b8"
   }
  }
 },
 "nbformat": 4,
 "nbformat_minor": 2
}
