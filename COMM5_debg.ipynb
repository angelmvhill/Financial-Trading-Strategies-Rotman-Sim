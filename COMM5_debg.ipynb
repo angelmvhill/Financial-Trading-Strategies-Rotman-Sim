{
 "cells": [
  {
   "cell_type": "code",
   "execution_count": 2,
   "metadata": {},
   "outputs": [],
   "source": [
    "import requests\n",
    "import json\n",
    "import os\n",
    "from time import sleep\n",
    "API_KEY = {'X-API-Key': 'KZJ94OPT'}\n",
    "session = requests.Session()\n",
    "session.headers.update(API_KEY)"
   ]
  },
  {
   "cell_type": "code",
   "execution_count": 3,
   "metadata": {},
   "outputs": [],
   "source": [
    "class ApiException(Exception):\n",
    "    pass\n",
    "\n",
    "class HelperFunctions():\n",
    "    \n",
    "    def __init__(self):\n",
    "        pass\n",
    "\n",
    "    def ticker_bid_ask(self, session, ticker):\n",
    "        payload = {'ticker': ticker}\n",
    "        resp = session.get('http://localhost:9999/v1/securities/book', params=payload)  \n",
    "        if resp.ok:\n",
    "            book = resp.json()\n",
    "            return book['bids'][0]['price'], book['asks'][0]['price']\n",
    "        raise ApiException('Error getting bid / ask: The API key provided in this Python code must match that in the RIT client')"
   ]
  },
  {
   "cell_type": "code",
   "execution_count": 4,
   "metadata": {},
   "outputs": [],
   "source": [
    "def get_tick(session):\n",
    "    resp = session.get('http://localhost:9999/v1/case')\n",
    "    if resp.status_code == 401:\n",
    "        raise ApiException('Error getting tick: The API key provided in this Python code must match that in the RIT client')\n",
    "    case = resp.json()\n",
    "    return case['tick']"
   ]
  },
  {
   "cell_type": "code",
   "execution_count": null,
   "metadata": {},
   "outputs": [],
   "source": [
    "assets = session.get('http://localhost:9999/v1/assets')\n",
    "assets.json()"
   ]
  },
  {
   "cell_type": "code",
   "execution_count": 1,
   "metadata": {},
   "outputs": [
    {
     "ename": "NameError",
     "evalue": "name 'session' is not defined",
     "output_type": "error",
     "traceback": [
      "\u001b[1;31m---------------------------------------------------------------------------\u001b[0m",
      "\u001b[1;31mNameError\u001b[0m                                 Traceback (most recent call last)",
      "\u001b[1;32m~\\AppData\\Local\\Temp/ipykernel_28828/2323210822.py\u001b[0m in \u001b[0;36m<module>\u001b[1;34m\u001b[0m\n\u001b[0;32m      1\u001b[0m \u001b[1;31m# RENT STORAGE\u001b[0m\u001b[1;33m\u001b[0m\u001b[1;33m\u001b[0m\u001b[0m\n\u001b[0;32m      2\u001b[0m \u001b[1;32mfor\u001b[0m \u001b[0mi\u001b[0m \u001b[1;32min\u001b[0m \u001b[0mrange\u001b[0m\u001b[1;33m(\u001b[0m\u001b[1;36m3\u001b[0m\u001b[1;33m)\u001b[0m\u001b[1;33m:\u001b[0m\u001b[1;33m\u001b[0m\u001b[1;33m\u001b[0m\u001b[0m\n\u001b[1;32m----> 3\u001b[1;33m     \u001b[0msession\u001b[0m\u001b[1;33m.\u001b[0m\u001b[0mpost\u001b[0m\u001b[1;33m(\u001b[0m\u001b[1;34m'http://localhost:9999/v1/leases'\u001b[0m\u001b[1;33m,\u001b[0m \u001b[0mparams\u001b[0m \u001b[1;33m=\u001b[0m \u001b[1;33m{\u001b[0m\u001b[1;34m'ticker'\u001b[0m\u001b[1;33m:\u001b[0m \u001b[1;34m'CL-STORAGE'\u001b[0m\u001b[1;33m,\u001b[0m \u001b[1;34m'from'\u001b[0m\u001b[1;33m:\u001b[0m\u001b[1;34m'CONTAINER'\u001b[0m\u001b[1;33m,\u001b[0m \u001b[1;34m'quantity'\u001b[0m\u001b[1;33m:\u001b[0m \u001b[1;36m1\u001b[0m\u001b[1;33m}\u001b[0m\u001b[1;33m)\u001b[0m\u001b[1;33m\u001b[0m\u001b[1;33m\u001b[0m\u001b[0m\n\u001b[0m\u001b[0;32m      4\u001b[0m \u001b[1;33m\u001b[0m\u001b[0m\n\u001b[0;32m      5\u001b[0m \u001b[1;31m# BUY OIL\u001b[0m\u001b[1;33m\u001b[0m\u001b[1;33m\u001b[0m\u001b[0m\n",
      "\u001b[1;31mNameError\u001b[0m: name 'session' is not defined"
     ]
    }
   ],
   "source": [
    "# RENT STORAGE\n",
    "for i in range(3):\n",
    "    session.post('http://localhost:9999/v1/leases', params = {'ticker': 'CL-STORAGE', 'from':'CONTAINER', 'quantity': 1})\n",
    "\n",
    "# BUY OIL\n",
    "session.post('http://localhost:9999/v1/orders', params = {'ticker': 'CL', 'type': 'MARKET', 'quantity': 30, 'action': 'BUY'})\n",
    "\n",
    "# OIL FUTURE\n",
    "securities = session.get('http://localhost:9999/v1/securities')\n",
    "oil_future = securities.json()[3]['ticker']\n",
    "print(oil_future)\n",
    "\n",
    "if oil_future == 'CL-1F':\n",
    "    session.post('http://localhost:9999/v1/orders', params = {'ticker': 'CL-1F', 'type': 'MARKET', 'quantity': 30, 'action': 'SELL'})\n",
    "else:\n",
    "    session.post('http://localhost:9999/v1/orders', params = {'ticker': 'CL-2F', 'type': 'MARKET', 'quantity': 30, 'action': 'SELL'})"
   ]
  },
  {
   "cell_type": "code",
   "execution_count": null,
   "metadata": {},
   "outputs": [],
   "source": [
    "x = session.get('http://localhost:9999/v1/securities')\n",
    "x.json()[0]"
   ]
  },
  {
   "cell_type": "code",
   "execution_count": null,
   "metadata": {},
   "outputs": [],
   "source": [
    "session.post('http://localhost:9999/v1/leases', params = {'ticker': 'CL-REFINERY', 'from':'REFINERY', 'quantity': 1})\n",
    "\n"
   ]
  },
  {
   "cell_type": "code",
   "execution_count": null,
   "metadata": {},
   "outputs": [],
   "source": [
    "# USE REFINERY\n",
    "quantity = 30\n",
    "\n",
    "leases = session.get('http://localhost:9999/v1/leases')\n",
    "\n",
    "for i in leases.json():\n",
    "    if i['ticker'] == 'CL-REFINERY':\n",
    "        refinery_id = i['id']\n",
    "print(refinery_id)\n",
    "\n",
    "# session.get('http://localhost:9999/v1/leases/{}', params = {'ticker': 'CL-REFINERY', 'from': 'CL', 'quantity': 30, 'id': refinery_id})\n",
    "\n",
    "# session.get('http://localhost:9999/v1/leases/{}'.format(refinery_id))\n",
    "\n",
    "session.post(f'http://localhost:9999/v1/leases/{refinery_id}?from1=CL&quantity1={quantity}')\n",
    "# session.post('http://localhost:9999/v1/leases/1?from15=CL&quantity1=30')\n",
    "\n",
    "# session.get('http://localhost:9999/v1/leases/{}'.format(refinery_id), params = {'ticker': 'CL-REFINERY', 'from1': 'CL', 'quantity1': 30})"
   ]
  },
  {
   "cell_type": "code",
   "execution_count": null,
   "metadata": {},
   "outputs": [],
   "source": [
    "# GET RB AND HO POSITIONS\n",
    "ho_position = 0\n",
    "rb_position = 0\n",
    "\n",
    "while ho_position == 0 or rb_position == 0:\n",
    "    ho = session.get('http://localhost:9999/v1/securities', params={'ticker': 'HO'})\n",
    "    if ho.json()[0]['position'] != 0.0:\n",
    "        ho_position = ho.json()[0]['position']\n",
    "    rb = session.get('http://localhost:9999/v1/securities', params={'ticker': 'RB'})\n",
    "    if rb.json()[0]['position'] != 0.0:\n",
    "        rb_position = rb.json()[0]['position']\n",
    "\n",
    "# SELL HO, RB, AND FUTURES CONTRACT\n",
    "cl_1f = session.get('http://localhost:9999/v1/securities', params={'ticker': 'CL-1F'})\n",
    "cl_1f_position = cl_1f.json()[0]['position']\n",
    "cl_2f = session.get('http://localhost:9999/v1/securities', params={'ticker': 'CL-2F'})\n",
    "cl_2f_position = cl_2f.json()[0]['position']\n",
    "\n",
    "if cl_1f_position < 0.0:\n",
    "    session.post('http://localhost:9999/v1/orders', params={'ticker': 'CL-1F', 'type': 'MARKET', 'quantity': -cl_1f_position, 'action': 'BUY'})\n",
    "if cl_2f_position < 0.0:\n",
    "    session.post('http://localhost:9999/v1/orders', params={'ticker': 'CL-2F', 'type': 'MARKET', 'quantity': -cl_2f_position, 'action': 'BUY'})\n",
    "\n",
    "# SELL RB AND HO\n",
    "session.post('http://localhost:9999/v1/orders', params={'ticker': 'RB', 'type': 'MARKET', 'quantity': rb_position, 'action': 'SELL'})\n",
    "session.post('http://localhost:9999/v1/orders', params={'ticker': 'HO', 'type': 'MARKET', 'quantity': ho_position, 'action': 'SELL'})\n"
   ]
  },
  {
   "cell_type": "code",
   "execution_count": null,
   "metadata": {},
   "outputs": [],
   "source": [
    "session.post('http://localhost:9999/v1/leases', params = {'ticker': 'CL-STORAGE', 'from': 'CONTAINER'})"
   ]
  },
  {
   "cell_type": "code",
   "execution_count": null,
   "metadata": {},
   "outputs": [],
   "source": [
    "session.post('http://localhost:9999/v1/orders', params = {'ticker': 'CL', 'type': 'MARKET', 'quantity': quantity, 'action': 'BUY'})\n"
   ]
  },
  {
   "cell_type": "code",
   "execution_count": null,
   "metadata": {},
   "outputs": [],
   "source": [
    "ho = session.get('http://localhost:9999/v1/securities', params={'ticker': 'HO'})\n",
    "ho.json()"
   ]
  },
  {
   "cell_type": "code",
   "execution_count": null,
   "metadata": {},
   "outputs": [],
   "source": [
    "def get_position(session, ticker):\n",
    "    positions = session.get('http://localhost:9999/v1/securities', params={'ticker': ticker})\n",
    "    position = positions.json()[0]['position']\n",
    "    return position"
   ]
  },
  {
   "cell_type": "code",
   "execution_count": null,
   "metadata": {},
   "outputs": [],
   "source": [
    "assets = session.get('http://localhost:9999/v1/assets/history', params = {'ticker': 'CL-REFINERY', 'limit': 100})\n",
    "assets.json()"
   ]
  },
  {
   "cell_type": "code",
   "execution_count": null,
   "metadata": {},
   "outputs": [],
   "source": [
    "if oil_future == 'CL-1F':\n",
    "    session.post('http://localhost:9999/v1/orders', params = {'ticker': 'CL-1F', 'type': 'MARKET', 'quantity': 30, 'action': 'SELL'})\n",
    "            ### THIS LINE IS NOT WORKING (BELOW)\n",
    "            # can we choose when to buy and sell the future to lock in profit???\n",
    "else:\n",
    "    session.post('http://localhost:9999/v1/orders', params = {'ticker': 'CL-2F', 'type': 'MARKET', 'quantity': 30, 'action': 'SELL'})"
   ]
  },
  {
   "cell_type": "code",
   "execution_count": null,
   "metadata": {},
   "outputs": [],
   "source": [
    "session.post('http://localhost:9999/v1/leases', params = {'ticker': 'CL-STORAGE', 'from':'CONTAINER', 'quantity': 1})\n"
   ]
  },
  {
   "cell_type": "code",
   "execution_count": null,
   "metadata": {},
   "outputs": [],
   "source": [
    "quantity = 10\n",
    "session.post('http://localhost:9999/v1/orders', params = {'ticker': 'CL', 'type': 'MARKET', 'quantity': quantity, 'action': 'BUY'})\n"
   ]
  },
  {
   "cell_type": "code",
   "execution_count": null,
   "metadata": {},
   "outputs": [],
   "source": [
    "leases.json()"
   ]
  },
  {
   "cell_type": "code",
   "execution_count": null,
   "metadata": {},
   "outputs": [],
   "source": [
    "session.post('http://localhost:9999/v1/leases', params = {'ticker': 'CL-REFINERY'})\n"
   ]
  },
  {
   "cell_type": "code",
   "execution_count": null,
   "metadata": {},
   "outputs": [],
   "source": [
    "get_tick(session)"
   ]
  },
  {
   "cell_type": "code",
   "execution_count": null,
   "metadata": {},
   "outputs": [],
   "source": [
    "session.post('http://localhost:9999/v1/orders', params = {'ticker': 'CL', 'type': 'MARKET', 'quantity': quantity, 'action': 'BUY'})\n"
   ]
  },
  {
   "cell_type": "code",
   "execution_count": null,
   "metadata": {},
   "outputs": [],
   "source": [
    "session.post(f'http://localhost:9999/v1/orders?ticker=CL&type=MARKET&quantity={quantity}&action=BUY')\n"
   ]
  },
  {
   "cell_type": "code",
   "execution_count": 24,
   "metadata": {},
   "outputs": [
    {
     "name": "stdout",
     "output_type": "stream",
     "text": [
      "40\n"
     ]
    },
    {
     "ename": "NameError",
     "evalue": "name 'quantity' is not defined",
     "output_type": "error",
     "traceback": [
      "\u001b[1;31m---------------------------------------------------------------------------\u001b[0m",
      "\u001b[1;31mNameError\u001b[0m                                 Traceback (most recent call last)",
      "\u001b[1;32m~\\AppData\\Local\\Temp/ipykernel_28828/1096489841.py\u001b[0m in \u001b[0;36m<module>\u001b[1;34m\u001b[0m\n\u001b[0;32m     18\u001b[0m         \u001b[0mrefinery_id\u001b[0m \u001b[1;33m=\u001b[0m \u001b[0mi\u001b[0m\u001b[1;33m[\u001b[0m\u001b[1;34m'id'\u001b[0m\u001b[1;33m]\u001b[0m\u001b[1;33m\u001b[0m\u001b[1;33m\u001b[0m\u001b[0m\n\u001b[0;32m     19\u001b[0m \u001b[1;33m\u001b[0m\u001b[0m\n\u001b[1;32m---> 20\u001b[1;33m \u001b[0msession\u001b[0m\u001b[1;33m.\u001b[0m\u001b[0mpost\u001b[0m\u001b[1;33m(\u001b[0m\u001b[1;34mf'http://localhost:9999/v1/leases/{refinery_id}?from1=CL&quantity1={quantity}'\u001b[0m\u001b[1;33m)\u001b[0m\u001b[1;33m\u001b[0m\u001b[1;33m\u001b[0m\u001b[0m\n\u001b[0m\u001b[0;32m     21\u001b[0m \u001b[1;33m\u001b[0m\u001b[0m\n\u001b[0;32m     22\u001b[0m \u001b[0mprint\u001b[0m\u001b[1;33m(\u001b[0m\u001b[0mrefinery_id\u001b[0m\u001b[1;33m)\u001b[0m\u001b[1;33m\u001b[0m\u001b[1;33m\u001b[0m\u001b[0m\n",
      "\u001b[1;31mNameError\u001b[0m: name 'quantity' is not defined"
     ]
    }
   ],
   "source": [
    "leases = session.get('http://localhost:9999/v1/leases')\n",
    "\n",
    "refinery_id = -1\n",
    "\n",
    "for i in leases.json():\n",
    "    if i['ticker'] == 'CL-REFINERY':\n",
    "        refinery_id = i['id']\n",
    "\n",
    "print(refinery_id)\n",
    "\n",
    "if refinery_id == -1:\n",
    "    session.post('http://localhost:9999/v1/leases', params = {'ticker': 'CL-REFINERY', 'from':'REFINERY'})\n",
    "    sleep(.2)\n",
    "\n",
    "leases = session.get('http://localhost:9999/v1/leases')\n",
    "for i in leases.json():\n",
    "    if i['ticker'] == 'CL-REFINERY':\n",
    "        refinery_id = i['id']\n",
    "\n",
    "session.post(f'http://localhost:9999/v1/leases/{refinery_id}?from1=CL&quantity1=30')\n",
    "\n",
    "print(refinery_id)"
   ]
  },
  {
   "cell_type": "code",
   "execution_count": 32,
   "metadata": {},
   "outputs": [
    {
     "name": "stdout",
     "output_type": "stream",
     "text": [
      "200\n",
      "<Response [200]>\n",
      "{'success': True}\n",
      "201\n",
      "<Response [200]>\n",
      "{'success': True}\n"
     ]
    }
   ],
   "source": [
    "leases = session.get('http://localhost:9999/v1/leases')\n",
    "\n",
    "storage_id = -1\n",
    "\n",
    "for i in leases.json():\n",
    "    if i['ticker'] == 'CL-STORAGE':\n",
    "        storage_id = i['id']\n",
    "        print(f'{storage_id} (storage ID) is being cancelled...')\n",
    "        session.delete(f'http://localhost:9999/v1/leases/{storage_id}')\n",
    "        # print(x)\n",
    "        # print(x.json())\n",
    "        # sleep(.25)"
   ]
  },
  {
   "cell_type": "code",
   "execution_count": 29,
   "metadata": {},
   "outputs": [
    {
     "name": "stdout",
     "output_type": "stream",
     "text": [
      "[{'id': 200, 'ticker': 'CL-STORAGE', 'type': 'CONTAINER', 'start_lease_period': 2, 'start_lease_tick': 88, 'next_lease_period': 2, 'next_lease_tick': 298, 'convert_from': [], 'convert_to': [], 'convert_finish_period': None, 'convert_finish_tick': None, 'containment_usage': 0}, {'id': 201, 'ticker': 'CL-STORAGE', 'type': 'CONTAINER', 'start_lease_period': 2, 'start_lease_tick': 88, 'next_lease_period': 2, 'next_lease_tick': 298, 'convert_from': [], 'convert_to': [], 'convert_finish_period': None, 'convert_finish_tick': None, 'containment_usage': 0}]\n"
     ]
    }
   ],
   "source": [
    "print(leases.json())"
   ]
  },
  {
   "cell_type": "code",
   "execution_count": 12,
   "metadata": {},
   "outputs": [
    {
     "data": {
      "text/plain": [
       "[{'id': 3,\n",
       "  'ticker': 'CL-REFINERY',\n",
       "  'type': 'REFINERY',\n",
       "  'start_lease_period': 1,\n",
       "  'start_lease_tick': 492,\n",
       "  'next_lease_period': 1,\n",
       "  'next_lease_tick': 552,\n",
       "  'convert_from': [],\n",
       "  'convert_to': [],\n",
       "  'convert_finish_period': None,\n",
       "  'convert_finish_tick': None,\n",
       "  'containment_usage': None}]"
      ]
     },
     "execution_count": 12,
     "metadata": {},
     "output_type": "execute_result"
    }
   ],
   "source": [
    "leases = session.get('http://localhost:9999/v1/leases')\n",
    "leases.json()\n",
    "\n",
    "# for i in leases.json():\n",
    "#     if i['ticker'] == 'CL-REFINERY':\n",
    "#         refinery_id = i['id']\n",
    "    \n",
    "# if \n",
    "#     else:\n",
    "#         x = session.post('http://localhost:9999/v1/leases', params = {'ticker': 'CL-REFINERY', 'from':'REFINERY'})\n",
    "#         print(x)\n",
    "#         leases2 = session.get('http://localhost:9999/v1/leases')\n",
    "#         for i in leases2.json():\n",
    "#             print(i)\n",
    "#             if i['ticker'] == 'CL-REFINERY':\n",
    "#                 refinery_id = i['id']\n",
    "\n",
    "# session.post(f'http://localhost:9999/v1/leases/{refinery_id}?from1=CL&quantity1={quantity}')\n",
    "\n",
    "# print(refinery_id)"
   ]
  },
  {
   "cell_type": "code",
   "execution_count": null,
   "metadata": {},
   "outputs": [],
   "source": [
    "leases3 = session.get('http://localhost:9999/v1/leases')\n",
    "leases3.json()"
   ]
  },
  {
   "cell_type": "markdown",
   "metadata": {},
   "source": [
    "buy storage\n",
    "buy oil\n",
    "sell CL1F / CL2F -> if statement for time -> add in another clause that only locks in the future if price is going to go up\n",
    "buy refinery\n",
    "refine oil\n",
    "cancel storage\n",
    "sell HO and RB\n",
    "buy back \n",
    "REMEMBER TO ACCOUNT FOR TRADING LIMIT\n",
    "make sure to not hold CL futures at the end of periods -> if tick = 598, sell future"
   ]
  },
  {
   "cell_type": "markdown",
   "metadata": {},
   "source": [
    "# STRATEGY\n",
    "\n",
    "- pull up 2 windows for assets\n",
    "- the algo will handle everything except cancelling refining\n",
    "- once we purchase oil, immediately start refining\n",
    "- once we start refining, cancel storage"
   ]
  }
 ],
 "metadata": {
  "kernelspec": {
   "display_name": "Python 3.9.13 64-bit (microsoft store)",
   "language": "python",
   "name": "python3"
  },
  "language_info": {
   "codemirror_mode": {
    "name": "ipython",
    "version": 3
   },
   "file_extension": ".py",
   "mimetype": "text/x-python",
   "name": "python",
   "nbconvert_exporter": "python",
   "pygments_lexer": "ipython3",
   "version": "3.9.13"
  },
  "orig_nbformat": 4,
  "vscode": {
   "interpreter": {
    "hash": "8f2b8f7d7da3b55c8640ff0ad5b752ba61ffdffe564a4378c820bcd9964834b8"
   }
  }
 },
 "nbformat": 4,
 "nbformat_minor": 2
}
