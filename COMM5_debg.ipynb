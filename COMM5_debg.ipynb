{
 "cells": [
  {
   "cell_type": "code",
   "execution_count": 1,
   "metadata": {},
   "outputs": [],
   "source": [
    "import requests\n",
    "import json\n",
    "import os\n",
    "from time import sleep\n",
    "API_KEY = {'X-API-Key': 'KZJ94OPT'}\n",
    "session = requests.Session()\n",
    "session.headers.update(API_KEY)"
   ]
  },
  {
   "cell_type": "code",
   "execution_count": 2,
   "metadata": {},
   "outputs": [],
   "source": [
    "class ApiException(Exception):\n",
    "    pass\n",
    "\n",
    "class HelperFunctions():\n",
    "    \n",
    "    def __init__(self):\n",
    "        pass\n",
    "\n",
    "    def ticker_bid_ask(self, session, ticker):\n",
    "        payload = {'ticker': ticker}\n",
    "        resp = session.get('http://localhost:9999/v1/securities/book', params=payload)  \n",
    "        if resp.ok:\n",
    "            book = resp.json()\n",
    "            return book['bids'][0]['price'], book['asks'][0]['price']\n",
    "        raise ApiException('Error getting bid / ask: The API key provided in this Python code must match that in the RIT client')"
   ]
  },
  {
   "cell_type": "code",
   "execution_count": 35,
   "metadata": {},
   "outputs": [],
   "source": [
    "def get_tick(session):\n",
    "    resp = session.get('http://localhost:9999/v1/case')\n",
    "    if resp.status_code == 401:\n",
    "        raise ApiException('Error getting tick: The API key provided in this Python code must match that in the RIT client')\n",
    "    case = resp.json()\n",
    "    return case['tick']"
   ]
  },
  {
   "cell_type": "code",
   "execution_count": 7,
   "metadata": {},
   "outputs": [
    {
     "data": {
      "text/plain": [
       "[{'ticker': 'CL-STORAGE',\n",
       "  'type': 'CONTAINER',\n",
       "  'description': 'Storage for Crude Oil Spot in Cushing',\n",
       "  'total_quantity': 1000,\n",
       "  'available_quantity': 993,\n",
       "  'lease_price': 500.0,\n",
       "  'convert_from': [],\n",
       "  'convert_to': [],\n",
       "  'containment': {'ticker': 'CL', 'quantity': 10.0},\n",
       "  'ticks_per_conversion': 0,\n",
       "  'ticks_per_lease': 30,\n",
       "  'is_available': True,\n",
       "  'start_period': 1,\n",
       "  'stop_period': 2},\n",
       " {'ticker': 'AK-STORAGE',\n",
       "  'type': 'CONTAINER',\n",
       "  'description': 'Storage for Crude Oil in Alaska',\n",
       "  'total_quantity': 1000,\n",
       "  'available_quantity': 1000,\n",
       "  'lease_price': 500.0,\n",
       "  'convert_from': [],\n",
       "  'convert_to': [],\n",
       "  'containment': {'ticker': 'CL-AK', 'quantity': 10.0},\n",
       "  'ticks_per_conversion': 0,\n",
       "  'ticks_per_lease': 30,\n",
       "  'is_available': True,\n",
       "  'start_period': 1,\n",
       "  'stop_period': 2},\n",
       " {'ticker': 'NYC-STORAGE',\n",
       "  'type': 'CONTAINER',\n",
       "  'description': 'Storage for Crude Oil in New York City',\n",
       "  'total_quantity': 1000,\n",
       "  'available_quantity': 1000,\n",
       "  'lease_price': 500.0,\n",
       "  'convert_from': [],\n",
       "  'convert_to': [],\n",
       "  'containment': {'ticker': 'CL-NYC', 'quantity': 10.0},\n",
       "  'ticks_per_conversion': 0,\n",
       "  'ticks_per_lease': 30,\n",
       "  'is_available': True,\n",
       "  'start_period': 1,\n",
       "  'stop_period': 2},\n",
       " {'ticker': 'AK-CS-PIPE',\n",
       "  'type': 'PIPELINE',\n",
       "  'description': 'Pipeline from Alaska to Cushing',\n",
       "  'total_quantity': 1000,\n",
       "  'available_quantity': 1000,\n",
       "  'lease_price': 34000.0,\n",
       "  'convert_from': [{'ticker': 'CL-AK', 'quantity': 10.0}],\n",
       "  'convert_to': [{'ticker': 'CL', 'quantity': 10.0}],\n",
       "  'containment': None,\n",
       "  'ticks_per_conversion': 30,\n",
       "  'ticks_per_lease': 30,\n",
       "  'is_available': True,\n",
       "  'start_period': 1,\n",
       "  'stop_period': 2},\n",
       " {'ticker': 'CS-NYC-PIPE',\n",
       "  'type': 'PIPELINE',\n",
       "  'description': 'Pipeline from Cushing to New York City',\n",
       "  'total_quantity': 1000,\n",
       "  'available_quantity': 1000,\n",
       "  'lease_price': 20000.0,\n",
       "  'convert_from': [{'ticker': 'CL', 'quantity': 10.0}],\n",
       "  'convert_to': [{'ticker': 'CL-NYC', 'quantity': 10.0}],\n",
       "  'containment': None,\n",
       "  'ticks_per_conversion': 30,\n",
       "  'ticks_per_lease': 30,\n",
       "  'is_available': True,\n",
       "  'start_period': 1,\n",
       "  'stop_period': 2},\n",
       " {'ticker': 'CL-REFINERY',\n",
       "  'type': 'REFINERY',\n",
       "  'description': 'Crude Oil Refinery (3:2:1)',\n",
       "  'total_quantity': 1000,\n",
       "  'available_quantity': 1000,\n",
       "  'lease_price': 300000.0,\n",
       "  'convert_from': [{'ticker': 'CL', 'quantity': 30.0}],\n",
       "  'convert_to': [{'ticker': 'HO', 'quantity': 10.0},\n",
       "   {'ticker': 'RB', 'quantity': 20.0}],\n",
       "  'containment': None,\n",
       "  'ticks_per_conversion': 45,\n",
       "  'ticks_per_lease': 60,\n",
       "  'is_available': True,\n",
       "  'start_period': 1,\n",
       "  'stop_period': 2}]"
      ]
     },
     "execution_count": 7,
     "metadata": {},
     "output_type": "execute_result"
    }
   ],
   "source": [
    "assets = session.get('http://localhost:9999/v1/assets')\n",
    "assets.json()"
   ]
  },
  {
   "cell_type": "code",
   "execution_count": 19,
   "metadata": {},
   "outputs": [
    {
     "name": "stdout",
     "output_type": "stream",
     "text": [
      "CL-1F\n"
     ]
    }
   ],
   "source": [
    "# RENT STORAGE\n",
    "for i in range(3):\n",
    "    session.post('http://localhost:9999/v1/leases', params = {'ticker': 'CL-STORAGE', 'from':'CONTAINER', 'quantity': 1})\n",
    "\n",
    "# BUY OIL\n",
    "session.post('http://localhost:9999/v1/orders', params = {'ticker': 'CL', 'type': 'MARKET', 'quantity': 30, 'action': 'BUY'})\n",
    "\n",
    "# OIL FUTURE\n",
    "securities = session.get('http://localhost:9999/v1/securities')\n",
    "oil_future = securities.json()[3]['ticker']\n",
    "print(oil_future)\n",
    "\n",
    "if oil_future == 'CL-1F':\n",
    "    session.post('http://localhost:9999/v1/orders', params = {'ticker': 'CL-1F', 'type': 'MARKET', 'quantity': 30, 'action': 'SELL'})\n",
    "else:\n",
    "    session.post('http://localhost:9999/v1/orders', params = {'ticker': 'CL-2F', 'type': 'MARKET', 'quantity': 30, 'action': 'SELL'})"
   ]
  },
  {
   "cell_type": "code",
   "execution_count": 9,
   "metadata": {},
   "outputs": [
    {
     "data": {
      "text/plain": [
       "{'ticker': 'CL',\n",
       " 'type': 'SPOT',\n",
       " 'size': 1000,\n",
       " 'position': 30.0,\n",
       " 'vwap': 100.89,\n",
       " 'nlv': 3026700.0,\n",
       " 'last': 100.9,\n",
       " 'bid': 100.89,\n",
       " 'bid_size': 300000.0,\n",
       " 'ask': 100.91,\n",
       " 'ask_size': 300000.0,\n",
       " 'volume': 90.0,\n",
       " 'unrealized': 0.0,\n",
       " 'realized': -53490.0,\n",
       " 'currency': '',\n",
       " 'total_volume': 90.0,\n",
       " 'limits': [{'name': 'CRUDE', 'units': 1.0}],\n",
       " 'interest_rate': 0.0,\n",
       " 'is_tradeable': True,\n",
       " 'is_shortable': False,\n",
       " 'start_period': 1,\n",
       " 'stop_period': 2,\n",
       " 'description': 'Crude Oil Spot',\n",
       " 'unit_multiplier': 1000,\n",
       " 'display_unit': 'Barrels',\n",
       " 'start_price': 100.0,\n",
       " 'min_price': 0.0,\n",
       " 'max_price': 1000.0,\n",
       " 'quoted_decimals': 2,\n",
       " 'trading_fee': 1.0,\n",
       " 'limit_order_rebate': 0.0,\n",
       " 'min_trade_size': 0,\n",
       " 'max_trade_size': 30,\n",
       " 'required_tickers': 'CL-STORAGE',\n",
       " 'underlying_tickers': None,\n",
       " 'bond_coupon': 0.0,\n",
       " 'interest_payments_per_period': 0,\n",
       " 'base_security': '',\n",
       " 'fixing_ticker': None,\n",
       " 'api_orders_per_second': 100,\n",
       " 'execution_delay_ms': 0,\n",
       " 'interest_rate_ticker': None,\n",
       " 'otc_price_range': 0.0}"
      ]
     },
     "execution_count": 9,
     "metadata": {},
     "output_type": "execute_result"
    }
   ],
   "source": [
    "x = session.get('http://localhost:9999/v1/securities')\n",
    "x.json()[0]"
   ]
  },
  {
   "cell_type": "code",
   "execution_count": 20,
   "metadata": {},
   "outputs": [
    {
     "data": {
      "text/plain": [
       "<Response [200]>"
      ]
     },
     "execution_count": 20,
     "metadata": {},
     "output_type": "execute_result"
    }
   ],
   "source": [
    "session.post('http://localhost:9999/v1/leases', params = {'ticker': 'CL-REFINERY', 'from':'REFINERY', 'quantity': 1})\n",
    "\n"
   ]
  },
  {
   "cell_type": "code",
   "execution_count": 22,
   "metadata": {},
   "outputs": [
    {
     "name": "stdout",
     "output_type": "stream",
     "text": [
      "4\n"
     ]
    },
    {
     "data": {
      "text/plain": [
       "<Response [200]>"
      ]
     },
     "execution_count": 22,
     "metadata": {},
     "output_type": "execute_result"
    }
   ],
   "source": [
    "# USE REFINERY\n",
    "quantity = 30\n",
    "\n",
    "leases = session.get('http://localhost:9999/v1/leases')\n",
    "\n",
    "for i in leases.json():\n",
    "    if i['ticker'] == 'CL-REFINERY':\n",
    "        refinery_id = i['id']\n",
    "print(refinery_id)\n",
    "\n",
    "# session.get('http://localhost:9999/v1/leases/{}', params = {'ticker': 'CL-REFINERY', 'from': 'CL', 'quantity': 30, 'id': refinery_id})\n",
    "\n",
    "# session.get('http://localhost:9999/v1/leases/{}'.format(refinery_id))\n",
    "\n",
    "session.post(f'http://localhost:9999/v1/leases/{refinery_id}?from1=CL&quantity1={quantity}')\n",
    "# session.post('http://localhost:9999/v1/leases/1?from15=CL&quantity1=30')\n",
    "\n",
    "# session.get('http://localhost:9999/v1/leases/{}'.format(refinery_id), params = {'ticker': 'CL-REFINERY', 'from1': 'CL', 'quantity1': 30})"
   ]
  },
  {
   "cell_type": "code",
   "execution_count": 175,
   "metadata": {},
   "outputs": [
    {
     "data": {
      "text/plain": [
       "<Response [200]>"
      ]
     },
     "execution_count": 175,
     "metadata": {},
     "output_type": "execute_result"
    }
   ],
   "source": [
    "# GET RB AND HO POSITIONS\n",
    "ho_position = 0\n",
    "rb_position = 0\n",
    "\n",
    "while ho_position == 0 or rb_position == 0:\n",
    "    ho = session.get('http://localhost:9999/v1/securities', params={'ticker': 'HO'})\n",
    "    if ho.json()[0]['position'] != 0.0:\n",
    "        ho_position = ho.json()[0]['position']\n",
    "    rb = session.get('http://localhost:9999/v1/securities', params={'ticker': 'RB'})\n",
    "    if rb.json()[0]['position'] != 0.0:\n",
    "        rb_position = rb.json()[0]['position']\n",
    "\n",
    "# SELL HO, RB, AND FUTURES CONTRACT\n",
    "cl_1f = session.get('http://localhost:9999/v1/securities', params={'ticker': 'CL-1F'})\n",
    "cl_1f_position = cl_1f.json()[0]['position']\n",
    "cl_2f = session.get('http://localhost:9999/v1/securities', params={'ticker': 'CL-2F'})\n",
    "cl_2f_position = cl_2f.json()[0]['position']\n",
    "\n",
    "if cl_1f_position < 0.0:\n",
    "    session.post('http://localhost:9999/v1/orders', params={'ticker': 'CL-1F', 'type': 'MARKET', 'quantity': -cl_1f_position, 'action': 'BUY'})\n",
    "if cl_2f_position < 0.0:\n",
    "    session.post('http://localhost:9999/v1/orders', params={'ticker': 'CL-2F', 'type': 'MARKET', 'quantity': -cl_2f_position, 'action': 'BUY'})\n",
    "\n",
    "# SELL RB AND HO\n",
    "session.post('http://localhost:9999/v1/orders', params={'ticker': 'RB', 'type': 'MARKET', 'quantity': rb_position, 'action': 'SELL'})\n",
    "session.post('http://localhost:9999/v1/orders', params={'ticker': 'HO', 'type': 'MARKET', 'quantity': ho_position, 'action': 'SELL'})\n"
   ]
  },
  {
   "cell_type": "code",
   "execution_count": 156,
   "metadata": {},
   "outputs": [
    {
     "data": {
      "text/plain": [
       "[{'ticker': 'HO',\n",
       "  'type': 'SPOT',\n",
       "  'size': 42000,\n",
       "  'position': 0.0,\n",
       "  'vwap': 0.0,\n",
       "  'nlv': 0.0,\n",
       "  'last': 3.97,\n",
       "  'bid': 3.96,\n",
       "  'bid_size': 300000.0,\n",
       "  'ask': 3.98,\n",
       "  'ask_size': 300000.0,\n",
       "  'volume': 0.0,\n",
       "  'unrealized': 0.0,\n",
       "  'realized': 0.0,\n",
       "  'currency': '',\n",
       "  'total_volume': 0.0,\n",
       "  'limits': [{'name': 'PRODUCT', 'units': 1.0}],\n",
       "  'interest_rate': 0.0,\n",
       "  'is_tradeable': True,\n",
       "  'is_shortable': False,\n",
       "  'start_period': 1,\n",
       "  'stop_period': 2,\n",
       "  'description': 'Heating Oil',\n",
       "  'unit_multiplier': 42000,\n",
       "  'display_unit': 'Gallons',\n",
       "  'start_price': 3.0,\n",
       "  'min_price': 0.0,\n",
       "  'max_price': 1000.0,\n",
       "  'quoted_decimals': 2,\n",
       "  'trading_fee': 1.0,\n",
       "  'limit_order_rebate': 0.0,\n",
       "  'min_trade_size': 0,\n",
       "  'max_trade_size': 30,\n",
       "  'required_tickers': None,\n",
       "  'underlying_tickers': None,\n",
       "  'bond_coupon': 0.0,\n",
       "  'interest_payments_per_period': 0,\n",
       "  'base_security': '',\n",
       "  'fixing_ticker': None,\n",
       "  'api_orders_per_second': 100,\n",
       "  'execution_delay_ms': 0,\n",
       "  'interest_rate_ticker': None,\n",
       "  'otc_price_range': 0.0}]"
      ]
     },
     "execution_count": 156,
     "metadata": {},
     "output_type": "execute_result"
    }
   ],
   "source": [
    "ho = session.get('http://localhost:9999/v1/securities', params={'ticker': 'HO'})\n",
    "ho.json()"
   ]
  },
  {
   "cell_type": "code",
   "execution_count": null,
   "metadata": {},
   "outputs": [],
   "source": [
    "def get_position(session, ticker):\n",
    "    positions = session.get('http://localhost:9999/v1/securities', params={'ticker': ticker})\n",
    "    position = positions.json()[0]['position']\n",
    "    return position"
   ]
  },
  {
   "cell_type": "code",
   "execution_count": 112,
   "metadata": {},
   "outputs": [
    {
     "data": {
      "text/plain": [
       "[{'tick': 16,\n",
       "  'ticker': 'CL-REFINERY',\n",
       "  'action': 'LEASE',\n",
       "  'cost': 300000.0,\n",
       "  'convert_from': None,\n",
       "  'convert_to': None,\n",
       "  'convert_from_price': None,\n",
       "  'convert_to_price': None}]"
      ]
     },
     "execution_count": 112,
     "metadata": {},
     "output_type": "execute_result"
    }
   ],
   "source": [
    "assets = session.get('http://localhost:9999/v1/assets/history', params = {'ticker': 'CL-REFINERY', 'limit': 100})\n",
    "assets.json()"
   ]
  },
  {
   "cell_type": "code",
   "execution_count": null,
   "metadata": {},
   "outputs": [],
   "source": [
    "if oil_future == 'CL-1F':\n",
    "    session.post('http://localhost:9999/v1/orders', params = {'ticker': 'CL-1F', 'type': 'MARKET', 'quantity': 30, 'action': 'SELL'})\n",
    "            ### THIS LINE IS NOT WORKING (BELOW)\n",
    "            # can we choose when to buy and sell the future to lock in profit???\n",
    "else:\n",
    "    session.post('http://localhost:9999/v1/orders', params = {'ticker': 'CL-2F', 'type': 'MARKET', 'quantity': 30, 'action': 'SELL'})"
   ]
  },
  {
   "cell_type": "code",
   "execution_count": 39,
   "metadata": {},
   "outputs": [
    {
     "data": {
      "text/plain": [
       "<Response [200]>"
      ]
     },
     "execution_count": 39,
     "metadata": {},
     "output_type": "execute_result"
    }
   ],
   "source": [
    "session.post('http://localhost:9999/v1/leases', params = {'ticker': 'CL-STORAGE', 'from':'CONTAINER', 'quantity': 1})\n"
   ]
  },
  {
   "cell_type": "code",
   "execution_count": 40,
   "metadata": {},
   "outputs": [
    {
     "data": {
      "text/plain": [
       "<Response [200]>"
      ]
     },
     "execution_count": 40,
     "metadata": {},
     "output_type": "execute_result"
    }
   ],
   "source": [
    "quantity = 10\n",
    "session.post('http://localhost:9999/v1/orders', params = {'ticker': 'CL', 'type': 'MARKET', 'quantity': quantity, 'action': 'BUY'})\n"
   ]
  },
  {
   "cell_type": "code",
   "execution_count": 30,
   "metadata": {},
   "outputs": [
    {
     "data": {
      "text/plain": [
       "[{'id': 1,\n",
       "  'ticker': 'CL-STORAGE',\n",
       "  'type': 'CONTAINER',\n",
       "  'start_lease_period': 1,\n",
       "  'start_lease_tick': 167,\n",
       "  'next_lease_period': 1,\n",
       "  'next_lease_tick': 227,\n",
       "  'convert_from': [],\n",
       "  'convert_to': [],\n",
       "  'convert_finish_period': None,\n",
       "  'convert_finish_tick': None,\n",
       "  'containment_usage': 10},\n",
       " {'id': 2,\n",
       "  'ticker': 'CL-STORAGE',\n",
       "  'type': 'CONTAINER',\n",
       "  'start_lease_period': 1,\n",
       "  'start_lease_tick': 167,\n",
       "  'next_lease_period': 1,\n",
       "  'next_lease_tick': 227,\n",
       "  'convert_from': [],\n",
       "  'convert_to': [],\n",
       "  'convert_finish_period': None,\n",
       "  'convert_finish_tick': None,\n",
       "  'containment_usage': 10},\n",
       " {'id': 3,\n",
       "  'ticker': 'CL-STORAGE',\n",
       "  'type': 'CONTAINER',\n",
       "  'start_lease_period': 1,\n",
       "  'start_lease_tick': 167,\n",
       "  'next_lease_period': 1,\n",
       "  'next_lease_tick': 227,\n",
       "  'convert_from': [],\n",
       "  'convert_to': [],\n",
       "  'convert_finish_period': None,\n",
       "  'convert_finish_tick': None,\n",
       "  'containment_usage': 10},\n",
       " {'id': 4,\n",
       "  'ticker': 'CL-REFINERY',\n",
       "  'type': 'REFINERY',\n",
       "  'start_lease_period': 1,\n",
       "  'start_lease_tick': 171,\n",
       "  'next_lease_period': 1,\n",
       "  'next_lease_tick': 231,\n",
       "  'convert_from': [],\n",
       "  'convert_to': [],\n",
       "  'convert_finish_period': None,\n",
       "  'convert_finish_tick': None,\n",
       "  'containment_usage': None}]"
      ]
     },
     "execution_count": 30,
     "metadata": {},
     "output_type": "execute_result"
    }
   ],
   "source": [
    "leases.json()"
   ]
  },
  {
   "cell_type": "code",
   "execution_count": 26,
   "metadata": {},
   "outputs": [
    {
     "data": {
      "text/plain": [
       "<Response [200]>"
      ]
     },
     "execution_count": 26,
     "metadata": {},
     "output_type": "execute_result"
    }
   ],
   "source": [
    "session.post('http://localhost:9999/v1/leases', params = {'ticker': 'CL-REFINERY'})\n"
   ]
  },
  {
   "cell_type": "code",
   "execution_count": 36,
   "metadata": {},
   "outputs": [
    {
     "data": {
      "text/plain": [
       "97"
      ]
     },
     "execution_count": 36,
     "metadata": {},
     "output_type": "execute_result"
    }
   ],
   "source": [
    "get_tick(session)"
   ]
  },
  {
   "cell_type": "code",
   "execution_count": null,
   "metadata": {},
   "outputs": [],
   "source": [
    "session.post('http://localhost:9999/v1/orders', params = {'ticker': 'CL', 'type': 'MARKET', 'quantity': quantity, 'action': 'BUY'})\n"
   ]
  },
  {
   "cell_type": "code",
   "execution_count": 38,
   "metadata": {},
   "outputs": [
    {
     "data": {
      "text/plain": [
       "<Response [500]>"
      ]
     },
     "execution_count": 38,
     "metadata": {},
     "output_type": "execute_result"
    }
   ],
   "source": [
    "session.post(f'http://localhost:9999/v1/orders?ticker=CL&type=MARKET&quantity={quantity}&action=BUY')\n"
   ]
  },
  {
   "cell_type": "markdown",
   "metadata": {},
   "source": [
    "buy storage\n",
    "buy oil\n",
    "sell CL1F / CL2F -> if statement for time -> add in another clause that only locks in the future if price is going to go up\n",
    "buy refinery\n",
    "refine oil\n",
    "cancel storage\n",
    "sell HO and RB\n",
    "buy back \n",
    "REMEMBER TO ACCOUNT FOR TRADING LIMIT\n",
    "make sure to not hold CL futures at the end of periods -> if tick = 598, sell future"
   ]
  },
  {
   "cell_type": "markdown",
   "metadata": {},
   "source": [
    "# STRATEGY\n",
    "\n",
    "- pull up 2 windows for assets\n",
    "- the algo will handle everything except cancelling refining\n",
    "- once we purchase oil, immediately start refining\n",
    "- once we start refining, cancel storage"
   ]
  }
 ],
 "metadata": {
  "kernelspec": {
   "display_name": "Python 3.9.13 64-bit (microsoft store)",
   "language": "python",
   "name": "python3"
  },
  "language_info": {
   "codemirror_mode": {
    "name": "ipython",
    "version": 3
   },
   "file_extension": ".py",
   "mimetype": "text/x-python",
   "name": "python",
   "nbconvert_exporter": "python",
   "pygments_lexer": "ipython3",
   "version": "3.9.13"
  },
  "orig_nbformat": 4,
  "vscode": {
   "interpreter": {
    "hash": "8f2b8f7d7da3b55c8640ff0ad5b752ba61ffdffe564a4378c820bcd9964834b8"
   }
  }
 },
 "nbformat": 4,
 "nbformat_minor": 2
}
