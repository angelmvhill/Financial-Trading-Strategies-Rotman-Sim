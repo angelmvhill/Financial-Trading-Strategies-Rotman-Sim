{
 "cells": [
  {
   "cell_type": "code",
   "execution_count": 21,
   "metadata": {},
   "outputs": [],
   "source": [
    "import requests\n",
    "import json\n",
    "API_KEY = {'X-API-Key': 'KZJ94OPT'}\n",
    "session = requests.Session()\n",
    "session.headers.update(API_KEY)"
   ]
  },
  {
   "cell_type": "code",
   "execution_count": 12,
   "metadata": {},
   "outputs": [],
   "source": []
  },
  {
   "cell_type": "code",
   "execution_count": 11,
   "metadata": {},
   "outputs": [],
   "source": [
    "class ApiException(Exception):\n",
    "    pass\n",
    "\n",
    "class HelperFunctions():\n",
    "    \n",
    "    def __init__(self):\n",
    "        pass\n",
    "\n",
    "    def ticker_bid_ask(self, session, ticker):\n",
    "        payload = {'ticker': ticker}\n",
    "        resp = session.get('http://localhost:9999/v1/securities/book', params=payload)  \n",
    "        if resp.ok:\n",
    "            book = resp.json()\n",
    "            return book['bids'][0]['price'], book['asks'][0]['price']\n",
    "        raise ApiException('Error getting bid / ask: The API key provided in this Python code must match that in the RIT client')"
   ]
  },
  {
   "cell_type": "code",
   "execution_count": 9,
   "metadata": {},
   "outputs": [
    {
     "name": "stdout",
     "output_type": "stream",
     "text": [
      "13.5\n"
     ]
    }
   ],
   "source": [
    "array = [0,1,2,3,4,5,6,7,8,9,10,11,12,13,14,15,16,17,18,19]\n",
    "sum = 0\n",
    "sma_period = 12\n",
    "\n",
    "for idx, i in reversed(list(enumerate(array))):\n",
    "    if idx > len(array) - 13:\n",
    "        sum += i\n",
    "\n",
    "mov_avg = sum/sma_period\n",
    "print(mov_avg)\n",
    "\n",
    "# use this to determine whether to have more quantity / orders on buy side or sell side\n",
    "# if price > sma -> buy more // vice versa"
   ]
  },
  {
   "cell_type": "code",
   "execution_count": 35,
   "metadata": {},
   "outputs": [
    {
     "name": "stdout",
     "output_type": "stream",
     "text": [
      "20.11\n",
      "1.6758333333333333\n"
     ]
    }
   ],
   "source": [
    "resp = session.get('http://localhost:9999/v1/case')\n",
    "ticker_history = session.get('http://localhost:9999/v1/securities/history', params={'ticker': 'ALGO'})\n",
    "\n",
    "price = ticker_history.json()[0]['close']\n",
    "print(price)\n",
    "\n",
    "array = []\n",
    "array.append(price)\n",
    "sum = 0\n",
    "sma_period = 12\n",
    "\n",
    "for idx, i in reversed(list(enumerate(array))):\n",
    "    if idx > len(array) - sma_period + 1:\n",
    "        sum += i\n",
    "\n",
    "mov_avg_num = sum/sma_period\n",
    "print(mov_avg_num)"
   ]
  },
  {
   "cell_type": "code",
   "execution_count": 61,
   "metadata": {},
   "outputs": [
    {
     "name": "stdout",
     "output_type": "stream",
     "text": [
      "{'Cumulative Vol Bid': 0, 'Bid Num of Orders': 0, 'Cumulative Vol Ask': 0, 'Ask Num of Orders': 0}\n"
     ]
    }
   ],
   "source": [
    "def get_order_book_stats(session, ticker, limit):\n",
    "\n",
    "    orders = session.get('http://localhost:9999/v1/securities/book', params={'ticker': ticker, 'limit': limit})\n",
    "\n",
    "    bids = orders.json()['bids']\n",
    "    asks = orders.json()['asks']\n",
    "\n",
    "    bid_cumulative_volume = 0\n",
    "    bid_number_of_orders = 0\n",
    "\n",
    "    ask_cumulative_volume = 0\n",
    "    ask_number_of_orders = 0\n",
    "\n",
    "    for i in bids:\n",
    "        if i['trader_id'] == 'ANON':\n",
    "\n",
    "            bid_cumulative_volume += i['quantity']\n",
    "            bid_number_of_orders += 1\n",
    "\n",
    "        # else:\n",
    "        #     del bids[i]\n",
    "\n",
    "    for i in asks:\n",
    "        if i['trader_id'] == 'ANON':\n",
    "\n",
    "            ask_cumulative_volume += i['quantity']\n",
    "            ask_number_of_orders += 1\n",
    "\n",
    "        # else:\n",
    "        #     del asks[i]\n",
    "\n",
    "    dict = {'Cumulative Vol Bid': bid_cumulative_volume,\n",
    "            'Bid Num of Orders': bid_number_of_orders,\n",
    "            'Cumulative Vol Ask': ask_cumulative_volume,\n",
    "            'Ask Num of Orders': ask_number_of_orders,}\n",
    "\n",
    "    return dict\n",
    "\n",
    "    # for i in orders.json()['bid']:\n",
    "    #     if orders.json()['bid']['trader-id'] != 'ANON':\n",
    "\n",
    "print(get_order_book_stats(session, 'ALGO', 100))"
   ]
  },
  {
   "cell_type": "code",
   "execution_count": 65,
   "metadata": {},
   "outputs": [
    {
     "name": "stdout",
     "output_type": "stream",
     "text": [
      "{'Cumulative Vol Bid': 3219700.0, 'Bid Num of Orders': 64, 'Cumulative Vol Ask': 2952300.0, 'Ask Num of Orders': 58}\n",
      "0.004528672560376656\n"
     ]
    }
   ],
   "source": [
    "print(get_order_book_stats(session, 'ALGO', 100))\n",
    "\n",
    "x = get_order_book_stats(session, 'ALGO', 100)\n",
    "\n",
    "def calc_spread_cushion(order_books_stats):\n",
    "    bid_vol = order_books_stats['Cumulative Vol Bid']\n",
    "    ask_vol = order_books_stats['Cumulative Vol Ask']\n",
    "\n",
    "    reduction_factor = 20\n",
    "    price_cushion_factor = (bid_vol - ask_vol) / ask_vol / reduction_factor\n",
    "\n",
    "    return price_cushion_factor\n",
    "\n",
    "print(calc_spread_cushion(x))"
   ]
  }
 ],
 "metadata": {
  "kernelspec": {
   "display_name": "Python 3.9.13 64-bit (microsoft store)",
   "language": "python",
   "name": "python3"
  },
  "language_info": {
   "codemirror_mode": {
    "name": "ipython",
    "version": 3
   },
   "file_extension": ".py",
   "mimetype": "text/x-python",
   "name": "python",
   "nbconvert_exporter": "python",
   "pygments_lexer": "ipython3",
   "version": "3.9.13"
  },
  "orig_nbformat": 4,
  "vscode": {
   "interpreter": {
    "hash": "8f2b8f7d7da3b55c8640ff0ad5b752ba61ffdffe564a4378c820bcd9964834b8"
   }
  }
 },
 "nbformat": 4,
 "nbformat_minor": 2
}
