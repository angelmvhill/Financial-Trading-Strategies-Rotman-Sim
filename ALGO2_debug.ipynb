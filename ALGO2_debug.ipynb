{
 "cells": [
  {
   "cell_type": "code",
   "execution_count": 25,
   "metadata": {},
   "outputs": [],
   "source": [
    "import requests\n",
    "import json\n",
    "import os\n",
    "from time import sleep\n",
    "API_KEY = {'X-API-Key': 'KZJ94OPT'}\n",
    "session = requests.Session()\n",
    "session.headers.update(API_KEY)"
   ]
  },
  {
   "cell_type": "code",
   "execution_count": null,
   "metadata": {},
   "outputs": [],
   "source": []
  },
  {
   "cell_type": "code",
   "execution_count": null,
   "metadata": {},
   "outputs": [],
   "source": [
    "class ApiException(Exception):\n",
    "    pass\n",
    "\n",
    "class HelperFunctions():\n",
    "    \n",
    "    def __init__(self):\n",
    "        pass\n",
    "\n",
    "    def ticker_bid_ask(self, session, ticker):\n",
    "        payload = {'ticker': ticker}\n",
    "        resp = session.get('http://localhost:9999/v1/securities/book', params=payload)  \n",
    "        if resp.ok:\n",
    "            book = resp.json()\n",
    "            return book['bids'][0]['price'], book['asks'][0]['price']\n",
    "        raise ApiException('Error getting bid / ask: The API key provided in this Python code must match that in the RIT client')"
   ]
  },
  {
   "cell_type": "code",
   "execution_count": null,
   "metadata": {},
   "outputs": [],
   "source": [
    "array = [0,1,2,3,4,5,6,7,8,9,10,11,12,13,14,15,16,17,18,19]\n",
    "sum = 0\n",
    "sma_period = 12\n",
    "\n",
    "for idx, i in reversed(list(enumerate(array))):\n",
    "    if idx > len(array) - 13:\n",
    "        sum += i\n",
    "\n",
    "mov_avg = sum/sma_period\n",
    "print(mov_avg)\n",
    "\n",
    "# use this to determine whether to have more quantity / orders on buy side or sell side\n",
    "# if price > sma -> buy more // vice versa"
   ]
  },
  {
   "cell_type": "code",
   "execution_count": null,
   "metadata": {},
   "outputs": [],
   "source": [
    "resp = session.get('http://localhost:9999/v1/case')\n",
    "ticker_history = session.get('http://localhost:9999/v1/securities/history', params={'ticker': 'ALGO'})\n",
    "\n",
    "price = ticker_history.json()[0]['close']\n",
    "print(price)\n",
    "\n",
    "array = []\n",
    "array.append(price)\n",
    "sum = 0\n",
    "sma_period = 12\n",
    "\n",
    "for idx, i in reversed(list(enumerate(array))):\n",
    "    if idx > len(array) - sma_period + 1:\n",
    "        sum += i\n",
    "\n",
    "mov_avg_num = sum/sma_period\n",
    "print(mov_avg_num)"
   ]
  },
  {
   "cell_type": "code",
   "execution_count": 3,
   "metadata": {},
   "outputs": [
    {
     "ename": "ConnectionError",
     "evalue": "HTTPConnectionPool(host='localhost', port=9999): Max retries exceeded with url: /v1/securities/book?ticker=ALGO&limit=100 (Caused by NewConnectionError('<urllib3.connection.HTTPConnection object at 0x000001B35A893460>: Failed to establish a new connection: [WinError 10061] No connection could be made because the target machine actively refused it'))",
     "output_type": "error",
     "traceback": [
      "\u001b[1;31m---------------------------------------------------------------------------\u001b[0m",
      "\u001b[1;31mConnectionRefusedError\u001b[0m                    Traceback (most recent call last)",
      "\u001b[1;32m~\\AppData\\Local\\Packages\\PythonSoftwareFoundation.Python.3.9_qbz5n2kfra8p0\\LocalCache\\local-packages\\Python39\\site-packages\\urllib3\\connection.py\u001b[0m in \u001b[0;36m_new_conn\u001b[1;34m(self)\u001b[0m\n\u001b[0;32m    173\u001b[0m         \u001b[1;32mtry\u001b[0m\u001b[1;33m:\u001b[0m\u001b[1;33m\u001b[0m\u001b[1;33m\u001b[0m\u001b[0m\n\u001b[1;32m--> 174\u001b[1;33m             conn = connection.create_connection(\n\u001b[0m\u001b[0;32m    175\u001b[0m                 \u001b[1;33m(\u001b[0m\u001b[0mself\u001b[0m\u001b[1;33m.\u001b[0m\u001b[0m_dns_host\u001b[0m\u001b[1;33m,\u001b[0m \u001b[0mself\u001b[0m\u001b[1;33m.\u001b[0m\u001b[0mport\u001b[0m\u001b[1;33m)\u001b[0m\u001b[1;33m,\u001b[0m \u001b[0mself\u001b[0m\u001b[1;33m.\u001b[0m\u001b[0mtimeout\u001b[0m\u001b[1;33m,\u001b[0m \u001b[1;33m**\u001b[0m\u001b[0mextra_kw\u001b[0m\u001b[1;33m\u001b[0m\u001b[1;33m\u001b[0m\u001b[0m\n",
      "\u001b[1;32m~\\AppData\\Local\\Packages\\PythonSoftwareFoundation.Python.3.9_qbz5n2kfra8p0\\LocalCache\\local-packages\\Python39\\site-packages\\urllib3\\util\\connection.py\u001b[0m in \u001b[0;36mcreate_connection\u001b[1;34m(address, timeout, source_address, socket_options)\u001b[0m\n\u001b[0;32m     95\u001b[0m     \u001b[1;32mif\u001b[0m \u001b[0merr\u001b[0m \u001b[1;32mis\u001b[0m \u001b[1;32mnot\u001b[0m \u001b[1;32mNone\u001b[0m\u001b[1;33m:\u001b[0m\u001b[1;33m\u001b[0m\u001b[1;33m\u001b[0m\u001b[0m\n\u001b[1;32m---> 96\u001b[1;33m         \u001b[1;32mraise\u001b[0m \u001b[0merr\u001b[0m\u001b[1;33m\u001b[0m\u001b[1;33m\u001b[0m\u001b[0m\n\u001b[0m\u001b[0;32m     97\u001b[0m \u001b[1;33m\u001b[0m\u001b[0m\n",
      "\u001b[1;32m~\\AppData\\Local\\Packages\\PythonSoftwareFoundation.Python.3.9_qbz5n2kfra8p0\\LocalCache\\local-packages\\Python39\\site-packages\\urllib3\\util\\connection.py\u001b[0m in \u001b[0;36mcreate_connection\u001b[1;34m(address, timeout, source_address, socket_options)\u001b[0m\n\u001b[0;32m     85\u001b[0m                 \u001b[0msock\u001b[0m\u001b[1;33m.\u001b[0m\u001b[0mbind\u001b[0m\u001b[1;33m(\u001b[0m\u001b[0msource_address\u001b[0m\u001b[1;33m)\u001b[0m\u001b[1;33m\u001b[0m\u001b[1;33m\u001b[0m\u001b[0m\n\u001b[1;32m---> 86\u001b[1;33m             \u001b[0msock\u001b[0m\u001b[1;33m.\u001b[0m\u001b[0mconnect\u001b[0m\u001b[1;33m(\u001b[0m\u001b[0msa\u001b[0m\u001b[1;33m)\u001b[0m\u001b[1;33m\u001b[0m\u001b[1;33m\u001b[0m\u001b[0m\n\u001b[0m\u001b[0;32m     87\u001b[0m             \u001b[1;32mreturn\u001b[0m \u001b[0msock\u001b[0m\u001b[1;33m\u001b[0m\u001b[1;33m\u001b[0m\u001b[0m\n",
      "\u001b[1;31mConnectionRefusedError\u001b[0m: [WinError 10061] No connection could be made because the target machine actively refused it",
      "\nDuring handling of the above exception, another exception occurred:\n",
      "\u001b[1;31mNewConnectionError\u001b[0m                        Traceback (most recent call last)",
      "\u001b[1;32m~\\AppData\\Local\\Packages\\PythonSoftwareFoundation.Python.3.9_qbz5n2kfra8p0\\LocalCache\\local-packages\\Python39\\site-packages\\urllib3\\connectionpool.py\u001b[0m in \u001b[0;36murlopen\u001b[1;34m(self, method, url, body, headers, retries, redirect, assert_same_host, timeout, pool_timeout, release_conn, chunked, body_pos, **response_kw)\u001b[0m\n\u001b[0;32m    698\u001b[0m             \u001b[1;31m# Make the request on the httplib connection object.\u001b[0m\u001b[1;33m\u001b[0m\u001b[1;33m\u001b[0m\u001b[0m\n\u001b[1;32m--> 699\u001b[1;33m             httplib_response = self._make_request(\n\u001b[0m\u001b[0;32m    700\u001b[0m                 \u001b[0mconn\u001b[0m\u001b[1;33m,\u001b[0m\u001b[1;33m\u001b[0m\u001b[1;33m\u001b[0m\u001b[0m\n",
      "\u001b[1;32m~\\AppData\\Local\\Packages\\PythonSoftwareFoundation.Python.3.9_qbz5n2kfra8p0\\LocalCache\\local-packages\\Python39\\site-packages\\urllib3\\connectionpool.py\u001b[0m in \u001b[0;36m_make_request\u001b[1;34m(self, conn, method, url, timeout, chunked, **httplib_request_kw)\u001b[0m\n\u001b[0;32m    393\u001b[0m             \u001b[1;32melse\u001b[0m\u001b[1;33m:\u001b[0m\u001b[1;33m\u001b[0m\u001b[1;33m\u001b[0m\u001b[0m\n\u001b[1;32m--> 394\u001b[1;33m                 \u001b[0mconn\u001b[0m\u001b[1;33m.\u001b[0m\u001b[0mrequest\u001b[0m\u001b[1;33m(\u001b[0m\u001b[0mmethod\u001b[0m\u001b[1;33m,\u001b[0m \u001b[0murl\u001b[0m\u001b[1;33m,\u001b[0m \u001b[1;33m**\u001b[0m\u001b[0mhttplib_request_kw\u001b[0m\u001b[1;33m)\u001b[0m\u001b[1;33m\u001b[0m\u001b[1;33m\u001b[0m\u001b[0m\n\u001b[0m\u001b[0;32m    395\u001b[0m \u001b[1;33m\u001b[0m\u001b[0m\n",
      "\u001b[1;32m~\\AppData\\Local\\Packages\\PythonSoftwareFoundation.Python.3.9_qbz5n2kfra8p0\\LocalCache\\local-packages\\Python39\\site-packages\\urllib3\\connection.py\u001b[0m in \u001b[0;36mrequest\u001b[1;34m(self, method, url, body, headers)\u001b[0m\n\u001b[0;32m    238\u001b[0m             \u001b[0mheaders\u001b[0m\u001b[1;33m[\u001b[0m\u001b[1;34m\"User-Agent\"\u001b[0m\u001b[1;33m]\u001b[0m \u001b[1;33m=\u001b[0m \u001b[0m_get_default_user_agent\u001b[0m\u001b[1;33m(\u001b[0m\u001b[1;33m)\u001b[0m\u001b[1;33m\u001b[0m\u001b[1;33m\u001b[0m\u001b[0m\n\u001b[1;32m--> 239\u001b[1;33m         \u001b[0msuper\u001b[0m\u001b[1;33m(\u001b[0m\u001b[0mHTTPConnection\u001b[0m\u001b[1;33m,\u001b[0m \u001b[0mself\u001b[0m\u001b[1;33m)\u001b[0m\u001b[1;33m.\u001b[0m\u001b[0mrequest\u001b[0m\u001b[1;33m(\u001b[0m\u001b[0mmethod\u001b[0m\u001b[1;33m,\u001b[0m \u001b[0murl\u001b[0m\u001b[1;33m,\u001b[0m \u001b[0mbody\u001b[0m\u001b[1;33m=\u001b[0m\u001b[0mbody\u001b[0m\u001b[1;33m,\u001b[0m \u001b[0mheaders\u001b[0m\u001b[1;33m=\u001b[0m\u001b[0mheaders\u001b[0m\u001b[1;33m)\u001b[0m\u001b[1;33m\u001b[0m\u001b[1;33m\u001b[0m\u001b[0m\n\u001b[0m\u001b[0;32m    240\u001b[0m \u001b[1;33m\u001b[0m\u001b[0m\n",
      "\u001b[1;32mC:\\Program Files\\WindowsApps\\PythonSoftwareFoundation.Python.3.9_3.9.3568.0_x64__qbz5n2kfra8p0\\lib\\http\\client.py\u001b[0m in \u001b[0;36mrequest\u001b[1;34m(self, method, url, body, headers, encode_chunked)\u001b[0m\n\u001b[0;32m   1284\u001b[0m         \u001b[1;34m\"\"\"Send a complete request to the server.\"\"\"\u001b[0m\u001b[1;33m\u001b[0m\u001b[1;33m\u001b[0m\u001b[0m\n\u001b[1;32m-> 1285\u001b[1;33m         \u001b[0mself\u001b[0m\u001b[1;33m.\u001b[0m\u001b[0m_send_request\u001b[0m\u001b[1;33m(\u001b[0m\u001b[0mmethod\u001b[0m\u001b[1;33m,\u001b[0m \u001b[0murl\u001b[0m\u001b[1;33m,\u001b[0m \u001b[0mbody\u001b[0m\u001b[1;33m,\u001b[0m \u001b[0mheaders\u001b[0m\u001b[1;33m,\u001b[0m \u001b[0mencode_chunked\u001b[0m\u001b[1;33m)\u001b[0m\u001b[1;33m\u001b[0m\u001b[1;33m\u001b[0m\u001b[0m\n\u001b[0m\u001b[0;32m   1286\u001b[0m \u001b[1;33m\u001b[0m\u001b[0m\n",
      "\u001b[1;32mC:\\Program Files\\WindowsApps\\PythonSoftwareFoundation.Python.3.9_3.9.3568.0_x64__qbz5n2kfra8p0\\lib\\http\\client.py\u001b[0m in \u001b[0;36m_send_request\u001b[1;34m(self, method, url, body, headers, encode_chunked)\u001b[0m\n\u001b[0;32m   1330\u001b[0m             \u001b[0mbody\u001b[0m \u001b[1;33m=\u001b[0m \u001b[0m_encode\u001b[0m\u001b[1;33m(\u001b[0m\u001b[0mbody\u001b[0m\u001b[1;33m,\u001b[0m \u001b[1;34m'body'\u001b[0m\u001b[1;33m)\u001b[0m\u001b[1;33m\u001b[0m\u001b[1;33m\u001b[0m\u001b[0m\n\u001b[1;32m-> 1331\u001b[1;33m         \u001b[0mself\u001b[0m\u001b[1;33m.\u001b[0m\u001b[0mendheaders\u001b[0m\u001b[1;33m(\u001b[0m\u001b[0mbody\u001b[0m\u001b[1;33m,\u001b[0m \u001b[0mencode_chunked\u001b[0m\u001b[1;33m=\u001b[0m\u001b[0mencode_chunked\u001b[0m\u001b[1;33m)\u001b[0m\u001b[1;33m\u001b[0m\u001b[1;33m\u001b[0m\u001b[0m\n\u001b[0m\u001b[0;32m   1332\u001b[0m \u001b[1;33m\u001b[0m\u001b[0m\n",
      "\u001b[1;32mC:\\Program Files\\WindowsApps\\PythonSoftwareFoundation.Python.3.9_3.9.3568.0_x64__qbz5n2kfra8p0\\lib\\http\\client.py\u001b[0m in \u001b[0;36mendheaders\u001b[1;34m(self, message_body, encode_chunked)\u001b[0m\n\u001b[0;32m   1279\u001b[0m             \u001b[1;32mraise\u001b[0m \u001b[0mCannotSendHeader\u001b[0m\u001b[1;33m(\u001b[0m\u001b[1;33m)\u001b[0m\u001b[1;33m\u001b[0m\u001b[1;33m\u001b[0m\u001b[0m\n\u001b[1;32m-> 1280\u001b[1;33m         \u001b[0mself\u001b[0m\u001b[1;33m.\u001b[0m\u001b[0m_send_output\u001b[0m\u001b[1;33m(\u001b[0m\u001b[0mmessage_body\u001b[0m\u001b[1;33m,\u001b[0m \u001b[0mencode_chunked\u001b[0m\u001b[1;33m=\u001b[0m\u001b[0mencode_chunked\u001b[0m\u001b[1;33m)\u001b[0m\u001b[1;33m\u001b[0m\u001b[1;33m\u001b[0m\u001b[0m\n\u001b[0m\u001b[0;32m   1281\u001b[0m \u001b[1;33m\u001b[0m\u001b[0m\n",
      "\u001b[1;32mC:\\Program Files\\WindowsApps\\PythonSoftwareFoundation.Python.3.9_3.9.3568.0_x64__qbz5n2kfra8p0\\lib\\http\\client.py\u001b[0m in \u001b[0;36m_send_output\u001b[1;34m(self, message_body, encode_chunked)\u001b[0m\n\u001b[0;32m   1039\u001b[0m         \u001b[1;32mdel\u001b[0m \u001b[0mself\u001b[0m\u001b[1;33m.\u001b[0m\u001b[0m_buffer\u001b[0m\u001b[1;33m[\u001b[0m\u001b[1;33m:\u001b[0m\u001b[1;33m]\u001b[0m\u001b[1;33m\u001b[0m\u001b[1;33m\u001b[0m\u001b[0m\n\u001b[1;32m-> 1040\u001b[1;33m         \u001b[0mself\u001b[0m\u001b[1;33m.\u001b[0m\u001b[0msend\u001b[0m\u001b[1;33m(\u001b[0m\u001b[0mmsg\u001b[0m\u001b[1;33m)\u001b[0m\u001b[1;33m\u001b[0m\u001b[1;33m\u001b[0m\u001b[0m\n\u001b[0m\u001b[0;32m   1041\u001b[0m \u001b[1;33m\u001b[0m\u001b[0m\n",
      "\u001b[1;32mC:\\Program Files\\WindowsApps\\PythonSoftwareFoundation.Python.3.9_3.9.3568.0_x64__qbz5n2kfra8p0\\lib\\http\\client.py\u001b[0m in \u001b[0;36msend\u001b[1;34m(self, data)\u001b[0m\n\u001b[0;32m    979\u001b[0m             \u001b[1;32mif\u001b[0m \u001b[0mself\u001b[0m\u001b[1;33m.\u001b[0m\u001b[0mauto_open\u001b[0m\u001b[1;33m:\u001b[0m\u001b[1;33m\u001b[0m\u001b[1;33m\u001b[0m\u001b[0m\n\u001b[1;32m--> 980\u001b[1;33m                 \u001b[0mself\u001b[0m\u001b[1;33m.\u001b[0m\u001b[0mconnect\u001b[0m\u001b[1;33m(\u001b[0m\u001b[1;33m)\u001b[0m\u001b[1;33m\u001b[0m\u001b[1;33m\u001b[0m\u001b[0m\n\u001b[0m\u001b[0;32m    981\u001b[0m             \u001b[1;32melse\u001b[0m\u001b[1;33m:\u001b[0m\u001b[1;33m\u001b[0m\u001b[1;33m\u001b[0m\u001b[0m\n",
      "\u001b[1;32m~\\AppData\\Local\\Packages\\PythonSoftwareFoundation.Python.3.9_qbz5n2kfra8p0\\LocalCache\\local-packages\\Python39\\site-packages\\urllib3\\connection.py\u001b[0m in \u001b[0;36mconnect\u001b[1;34m(self)\u001b[0m\n\u001b[0;32m    204\u001b[0m     \u001b[1;32mdef\u001b[0m \u001b[0mconnect\u001b[0m\u001b[1;33m(\u001b[0m\u001b[0mself\u001b[0m\u001b[1;33m)\u001b[0m\u001b[1;33m:\u001b[0m\u001b[1;33m\u001b[0m\u001b[1;33m\u001b[0m\u001b[0m\n\u001b[1;32m--> 205\u001b[1;33m         \u001b[0mconn\u001b[0m \u001b[1;33m=\u001b[0m \u001b[0mself\u001b[0m\u001b[1;33m.\u001b[0m\u001b[0m_new_conn\u001b[0m\u001b[1;33m(\u001b[0m\u001b[1;33m)\u001b[0m\u001b[1;33m\u001b[0m\u001b[1;33m\u001b[0m\u001b[0m\n\u001b[0m\u001b[0;32m    206\u001b[0m         \u001b[0mself\u001b[0m\u001b[1;33m.\u001b[0m\u001b[0m_prepare_conn\u001b[0m\u001b[1;33m(\u001b[0m\u001b[0mconn\u001b[0m\u001b[1;33m)\u001b[0m\u001b[1;33m\u001b[0m\u001b[1;33m\u001b[0m\u001b[0m\n",
      "\u001b[1;32m~\\AppData\\Local\\Packages\\PythonSoftwareFoundation.Python.3.9_qbz5n2kfra8p0\\LocalCache\\local-packages\\Python39\\site-packages\\urllib3\\connection.py\u001b[0m in \u001b[0;36m_new_conn\u001b[1;34m(self)\u001b[0m\n\u001b[0;32m    185\u001b[0m         \u001b[1;32mexcept\u001b[0m \u001b[0mSocketError\u001b[0m \u001b[1;32mas\u001b[0m \u001b[0me\u001b[0m\u001b[1;33m:\u001b[0m\u001b[1;33m\u001b[0m\u001b[1;33m\u001b[0m\u001b[0m\n\u001b[1;32m--> 186\u001b[1;33m             raise NewConnectionError(\n\u001b[0m\u001b[0;32m    187\u001b[0m                 \u001b[0mself\u001b[0m\u001b[1;33m,\u001b[0m \u001b[1;34m\"Failed to establish a new connection: %s\"\u001b[0m \u001b[1;33m%\u001b[0m \u001b[0me\u001b[0m\u001b[1;33m\u001b[0m\u001b[1;33m\u001b[0m\u001b[0m\n",
      "\u001b[1;31mNewConnectionError\u001b[0m: <urllib3.connection.HTTPConnection object at 0x000001B35A893460>: Failed to establish a new connection: [WinError 10061] No connection could be made because the target machine actively refused it",
      "\nDuring handling of the above exception, another exception occurred:\n",
      "\u001b[1;31mMaxRetryError\u001b[0m                             Traceback (most recent call last)",
      "\u001b[1;32m~\\AppData\\Local\\Packages\\PythonSoftwareFoundation.Python.3.9_qbz5n2kfra8p0\\LocalCache\\local-packages\\Python39\\site-packages\\requests\\adapters.py\u001b[0m in \u001b[0;36msend\u001b[1;34m(self, request, stream, timeout, verify, cert, proxies)\u001b[0m\n\u001b[0;32m    439\u001b[0m             \u001b[1;32mif\u001b[0m \u001b[1;32mnot\u001b[0m \u001b[0mchunked\u001b[0m\u001b[1;33m:\u001b[0m\u001b[1;33m\u001b[0m\u001b[1;33m\u001b[0m\u001b[0m\n\u001b[1;32m--> 440\u001b[1;33m                 resp = conn.urlopen(\n\u001b[0m\u001b[0;32m    441\u001b[0m                     \u001b[0mmethod\u001b[0m\u001b[1;33m=\u001b[0m\u001b[0mrequest\u001b[0m\u001b[1;33m.\u001b[0m\u001b[0mmethod\u001b[0m\u001b[1;33m,\u001b[0m\u001b[1;33m\u001b[0m\u001b[1;33m\u001b[0m\u001b[0m\n",
      "\u001b[1;32m~\\AppData\\Local\\Packages\\PythonSoftwareFoundation.Python.3.9_qbz5n2kfra8p0\\LocalCache\\local-packages\\Python39\\site-packages\\urllib3\\connectionpool.py\u001b[0m in \u001b[0;36murlopen\u001b[1;34m(self, method, url, body, headers, retries, redirect, assert_same_host, timeout, pool_timeout, release_conn, chunked, body_pos, **response_kw)\u001b[0m\n\u001b[0;32m    754\u001b[0m \u001b[1;33m\u001b[0m\u001b[0m\n\u001b[1;32m--> 755\u001b[1;33m             retries = retries.increment(\n\u001b[0m\u001b[0;32m    756\u001b[0m                 \u001b[0mmethod\u001b[0m\u001b[1;33m,\u001b[0m \u001b[0murl\u001b[0m\u001b[1;33m,\u001b[0m \u001b[0merror\u001b[0m\u001b[1;33m=\u001b[0m\u001b[0me\u001b[0m\u001b[1;33m,\u001b[0m \u001b[0m_pool\u001b[0m\u001b[1;33m=\u001b[0m\u001b[0mself\u001b[0m\u001b[1;33m,\u001b[0m \u001b[0m_stacktrace\u001b[0m\u001b[1;33m=\u001b[0m\u001b[0msys\u001b[0m\u001b[1;33m.\u001b[0m\u001b[0mexc_info\u001b[0m\u001b[1;33m(\u001b[0m\u001b[1;33m)\u001b[0m\u001b[1;33m[\u001b[0m\u001b[1;36m2\u001b[0m\u001b[1;33m]\u001b[0m\u001b[1;33m\u001b[0m\u001b[1;33m\u001b[0m\u001b[0m\n",
      "\u001b[1;32m~\\AppData\\Local\\Packages\\PythonSoftwareFoundation.Python.3.9_qbz5n2kfra8p0\\LocalCache\\local-packages\\Python39\\site-packages\\urllib3\\util\\retry.py\u001b[0m in \u001b[0;36mincrement\u001b[1;34m(self, method, url, response, error, _pool, _stacktrace)\u001b[0m\n\u001b[0;32m    573\u001b[0m         \u001b[1;32mif\u001b[0m \u001b[0mnew_retry\u001b[0m\u001b[1;33m.\u001b[0m\u001b[0mis_exhausted\u001b[0m\u001b[1;33m(\u001b[0m\u001b[1;33m)\u001b[0m\u001b[1;33m:\u001b[0m\u001b[1;33m\u001b[0m\u001b[1;33m\u001b[0m\u001b[0m\n\u001b[1;32m--> 574\u001b[1;33m             \u001b[1;32mraise\u001b[0m \u001b[0mMaxRetryError\u001b[0m\u001b[1;33m(\u001b[0m\u001b[0m_pool\u001b[0m\u001b[1;33m,\u001b[0m \u001b[0murl\u001b[0m\u001b[1;33m,\u001b[0m \u001b[0merror\u001b[0m \u001b[1;32mor\u001b[0m \u001b[0mResponseError\u001b[0m\u001b[1;33m(\u001b[0m\u001b[0mcause\u001b[0m\u001b[1;33m)\u001b[0m\u001b[1;33m)\u001b[0m\u001b[1;33m\u001b[0m\u001b[1;33m\u001b[0m\u001b[0m\n\u001b[0m\u001b[0;32m    575\u001b[0m \u001b[1;33m\u001b[0m\u001b[0m\n",
      "\u001b[1;31mMaxRetryError\u001b[0m: HTTPConnectionPool(host='localhost', port=9999): Max retries exceeded with url: /v1/securities/book?ticker=ALGO&limit=100 (Caused by NewConnectionError('<urllib3.connection.HTTPConnection object at 0x000001B35A893460>: Failed to establish a new connection: [WinError 10061] No connection could be made because the target machine actively refused it'))",
      "\nDuring handling of the above exception, another exception occurred:\n",
      "\u001b[1;31mConnectionError\u001b[0m                           Traceback (most recent call last)",
      "\u001b[1;32m~\\AppData\\Local\\Temp/ipykernel_27340/1417283822.py\u001b[0m in \u001b[0;36m<module>\u001b[1;34m\u001b[0m\n\u001b[0;32m     40\u001b[0m     \u001b[1;31m#     if orders.json()['bid']['trader-id'] != 'ANON':\u001b[0m\u001b[1;33m\u001b[0m\u001b[1;33m\u001b[0m\u001b[0m\n\u001b[0;32m     41\u001b[0m \u001b[1;33m\u001b[0m\u001b[0m\n\u001b[1;32m---> 42\u001b[1;33m \u001b[0mprint\u001b[0m\u001b[1;33m(\u001b[0m\u001b[0mget_order_book_stats\u001b[0m\u001b[1;33m(\u001b[0m\u001b[0msession\u001b[0m\u001b[1;33m,\u001b[0m \u001b[1;34m'ALGO'\u001b[0m\u001b[1;33m,\u001b[0m \u001b[1;36m100\u001b[0m\u001b[1;33m)\u001b[0m\u001b[1;33m)\u001b[0m\u001b[1;33m\u001b[0m\u001b[1;33m\u001b[0m\u001b[0m\n\u001b[0m",
      "\u001b[1;32m~\\AppData\\Local\\Temp/ipykernel_27340/1417283822.py\u001b[0m in \u001b[0;36mget_order_book_stats\u001b[1;34m(session, ticker, limit)\u001b[0m\n\u001b[0;32m      1\u001b[0m \u001b[1;32mdef\u001b[0m \u001b[0mget_order_book_stats\u001b[0m\u001b[1;33m(\u001b[0m\u001b[0msession\u001b[0m\u001b[1;33m,\u001b[0m \u001b[0mticker\u001b[0m\u001b[1;33m,\u001b[0m \u001b[0mlimit\u001b[0m\u001b[1;33m)\u001b[0m\u001b[1;33m:\u001b[0m\u001b[1;33m\u001b[0m\u001b[1;33m\u001b[0m\u001b[0m\n\u001b[0;32m      2\u001b[0m \u001b[1;33m\u001b[0m\u001b[0m\n\u001b[1;32m----> 3\u001b[1;33m     \u001b[0morders\u001b[0m \u001b[1;33m=\u001b[0m \u001b[0msession\u001b[0m\u001b[1;33m.\u001b[0m\u001b[0mget\u001b[0m\u001b[1;33m(\u001b[0m\u001b[1;34m'http://localhost:9999/v1/securities/book'\u001b[0m\u001b[1;33m,\u001b[0m \u001b[0mparams\u001b[0m\u001b[1;33m=\u001b[0m\u001b[1;33m{\u001b[0m\u001b[1;34m'ticker'\u001b[0m\u001b[1;33m:\u001b[0m \u001b[0mticker\u001b[0m\u001b[1;33m,\u001b[0m \u001b[1;34m'limit'\u001b[0m\u001b[1;33m:\u001b[0m \u001b[0mlimit\u001b[0m\u001b[1;33m}\u001b[0m\u001b[1;33m)\u001b[0m\u001b[1;33m\u001b[0m\u001b[1;33m\u001b[0m\u001b[0m\n\u001b[0m\u001b[0;32m      4\u001b[0m \u001b[1;33m\u001b[0m\u001b[0m\n\u001b[0;32m      5\u001b[0m     \u001b[0mbids\u001b[0m \u001b[1;33m=\u001b[0m \u001b[0morders\u001b[0m\u001b[1;33m.\u001b[0m\u001b[0mjson\u001b[0m\u001b[1;33m(\u001b[0m\u001b[1;33m)\u001b[0m\u001b[1;33m[\u001b[0m\u001b[1;34m'bids'\u001b[0m\u001b[1;33m]\u001b[0m\u001b[1;33m\u001b[0m\u001b[1;33m\u001b[0m\u001b[0m\n",
      "\u001b[1;32m~\\AppData\\Local\\Packages\\PythonSoftwareFoundation.Python.3.9_qbz5n2kfra8p0\\LocalCache\\local-packages\\Python39\\site-packages\\requests\\sessions.py\u001b[0m in \u001b[0;36mget\u001b[1;34m(self, url, **kwargs)\u001b[0m\n\u001b[0;32m    540\u001b[0m \u001b[1;33m\u001b[0m\u001b[0m\n\u001b[0;32m    541\u001b[0m         \u001b[0mkwargs\u001b[0m\u001b[1;33m.\u001b[0m\u001b[0msetdefault\u001b[0m\u001b[1;33m(\u001b[0m\u001b[1;34m'allow_redirects'\u001b[0m\u001b[1;33m,\u001b[0m \u001b[1;32mTrue\u001b[0m\u001b[1;33m)\u001b[0m\u001b[1;33m\u001b[0m\u001b[1;33m\u001b[0m\u001b[0m\n\u001b[1;32m--> 542\u001b[1;33m         \u001b[1;32mreturn\u001b[0m \u001b[0mself\u001b[0m\u001b[1;33m.\u001b[0m\u001b[0mrequest\u001b[0m\u001b[1;33m(\u001b[0m\u001b[1;34m'GET'\u001b[0m\u001b[1;33m,\u001b[0m \u001b[0murl\u001b[0m\u001b[1;33m,\u001b[0m \u001b[1;33m**\u001b[0m\u001b[0mkwargs\u001b[0m\u001b[1;33m)\u001b[0m\u001b[1;33m\u001b[0m\u001b[1;33m\u001b[0m\u001b[0m\n\u001b[0m\u001b[0;32m    543\u001b[0m \u001b[1;33m\u001b[0m\u001b[0m\n\u001b[0;32m    544\u001b[0m     \u001b[1;32mdef\u001b[0m \u001b[0moptions\u001b[0m\u001b[1;33m(\u001b[0m\u001b[0mself\u001b[0m\u001b[1;33m,\u001b[0m \u001b[0murl\u001b[0m\u001b[1;33m,\u001b[0m \u001b[1;33m**\u001b[0m\u001b[0mkwargs\u001b[0m\u001b[1;33m)\u001b[0m\u001b[1;33m:\u001b[0m\u001b[1;33m\u001b[0m\u001b[1;33m\u001b[0m\u001b[0m\n",
      "\u001b[1;32m~\\AppData\\Local\\Packages\\PythonSoftwareFoundation.Python.3.9_qbz5n2kfra8p0\\LocalCache\\local-packages\\Python39\\site-packages\\requests\\sessions.py\u001b[0m in \u001b[0;36mrequest\u001b[1;34m(self, method, url, params, data, headers, cookies, files, auth, timeout, allow_redirects, proxies, hooks, stream, verify, cert, json)\u001b[0m\n\u001b[0;32m    527\u001b[0m         }\n\u001b[0;32m    528\u001b[0m         \u001b[0msend_kwargs\u001b[0m\u001b[1;33m.\u001b[0m\u001b[0mupdate\u001b[0m\u001b[1;33m(\u001b[0m\u001b[0msettings\u001b[0m\u001b[1;33m)\u001b[0m\u001b[1;33m\u001b[0m\u001b[1;33m\u001b[0m\u001b[0m\n\u001b[1;32m--> 529\u001b[1;33m         \u001b[0mresp\u001b[0m \u001b[1;33m=\u001b[0m \u001b[0mself\u001b[0m\u001b[1;33m.\u001b[0m\u001b[0msend\u001b[0m\u001b[1;33m(\u001b[0m\u001b[0mprep\u001b[0m\u001b[1;33m,\u001b[0m \u001b[1;33m**\u001b[0m\u001b[0msend_kwargs\u001b[0m\u001b[1;33m)\u001b[0m\u001b[1;33m\u001b[0m\u001b[1;33m\u001b[0m\u001b[0m\n\u001b[0m\u001b[0;32m    530\u001b[0m \u001b[1;33m\u001b[0m\u001b[0m\n\u001b[0;32m    531\u001b[0m         \u001b[1;32mreturn\u001b[0m \u001b[0mresp\u001b[0m\u001b[1;33m\u001b[0m\u001b[1;33m\u001b[0m\u001b[0m\n",
      "\u001b[1;32m~\\AppData\\Local\\Packages\\PythonSoftwareFoundation.Python.3.9_qbz5n2kfra8p0\\LocalCache\\local-packages\\Python39\\site-packages\\requests\\sessions.py\u001b[0m in \u001b[0;36msend\u001b[1;34m(self, request, **kwargs)\u001b[0m\n\u001b[0;32m    643\u001b[0m \u001b[1;33m\u001b[0m\u001b[0m\n\u001b[0;32m    644\u001b[0m         \u001b[1;31m# Send the request\u001b[0m\u001b[1;33m\u001b[0m\u001b[1;33m\u001b[0m\u001b[0m\n\u001b[1;32m--> 645\u001b[1;33m         \u001b[0mr\u001b[0m \u001b[1;33m=\u001b[0m \u001b[0madapter\u001b[0m\u001b[1;33m.\u001b[0m\u001b[0msend\u001b[0m\u001b[1;33m(\u001b[0m\u001b[0mrequest\u001b[0m\u001b[1;33m,\u001b[0m \u001b[1;33m**\u001b[0m\u001b[0mkwargs\u001b[0m\u001b[1;33m)\u001b[0m\u001b[1;33m\u001b[0m\u001b[1;33m\u001b[0m\u001b[0m\n\u001b[0m\u001b[0;32m    646\u001b[0m \u001b[1;33m\u001b[0m\u001b[0m\n\u001b[0;32m    647\u001b[0m         \u001b[1;31m# Total elapsed time of the request (approximately)\u001b[0m\u001b[1;33m\u001b[0m\u001b[1;33m\u001b[0m\u001b[0m\n",
      "\u001b[1;32m~\\AppData\\Local\\Packages\\PythonSoftwareFoundation.Python.3.9_qbz5n2kfra8p0\\LocalCache\\local-packages\\Python39\\site-packages\\requests\\adapters.py\u001b[0m in \u001b[0;36msend\u001b[1;34m(self, request, stream, timeout, verify, cert, proxies)\u001b[0m\n\u001b[0;32m    517\u001b[0m                 \u001b[1;32mraise\u001b[0m \u001b[0mSSLError\u001b[0m\u001b[1;33m(\u001b[0m\u001b[0me\u001b[0m\u001b[1;33m,\u001b[0m \u001b[0mrequest\u001b[0m\u001b[1;33m=\u001b[0m\u001b[0mrequest\u001b[0m\u001b[1;33m)\u001b[0m\u001b[1;33m\u001b[0m\u001b[1;33m\u001b[0m\u001b[0m\n\u001b[0;32m    518\u001b[0m \u001b[1;33m\u001b[0m\u001b[0m\n\u001b[1;32m--> 519\u001b[1;33m             \u001b[1;32mraise\u001b[0m \u001b[0mConnectionError\u001b[0m\u001b[1;33m(\u001b[0m\u001b[0me\u001b[0m\u001b[1;33m,\u001b[0m \u001b[0mrequest\u001b[0m\u001b[1;33m=\u001b[0m\u001b[0mrequest\u001b[0m\u001b[1;33m)\u001b[0m\u001b[1;33m\u001b[0m\u001b[1;33m\u001b[0m\u001b[0m\n\u001b[0m\u001b[0;32m    520\u001b[0m \u001b[1;33m\u001b[0m\u001b[0m\n\u001b[0;32m    521\u001b[0m         \u001b[1;32mexcept\u001b[0m \u001b[0mClosedPoolError\u001b[0m \u001b[1;32mas\u001b[0m \u001b[0me\u001b[0m\u001b[1;33m:\u001b[0m\u001b[1;33m\u001b[0m\u001b[1;33m\u001b[0m\u001b[0m\n",
      "\u001b[1;31mConnectionError\u001b[0m: HTTPConnectionPool(host='localhost', port=9999): Max retries exceeded with url: /v1/securities/book?ticker=ALGO&limit=100 (Caused by NewConnectionError('<urllib3.connection.HTTPConnection object at 0x000001B35A893460>: Failed to establish a new connection: [WinError 10061] No connection could be made because the target machine actively refused it'))"
     ]
    }
   ],
   "source": [
    "def get_order_book_stats(session, ticker, limit):\n",
    "\n",
    "    orders = session.get('http://localhost:9999/v1/securities/book', params={'ticker': ticker, 'limit': limit})\n",
    "\n",
    "    bids = orders.json()['bids']\n",
    "    asks = orders.json()['asks']\n",
    "\n",
    "    bid_cumulative_volume = 0\n",
    "    bid_number_of_orders = 0\n",
    "\n",
    "    ask_cumulative_volume = 0\n",
    "    ask_number_of_orders = 0\n",
    "\n",
    "    for i in bids:\n",
    "        if i['trader_id'] == 'ANON':\n",
    "\n",
    "            bid_cumulative_volume += i['quantity']\n",
    "            bid_number_of_orders += 1\n",
    "\n",
    "        # else:\n",
    "        #     del bids[i]\n",
    "\n",
    "    for i in asks:\n",
    "        if i['trader_id'] == 'ANON':\n",
    "\n",
    "            ask_cumulative_volume += i['quantity']\n",
    "            ask_number_of_orders += 1\n",
    "\n",
    "        # else:\n",
    "        #     del asks[i]\n",
    "\n",
    "    dict = {'Cumulative Vol Bid': bid_cumulative_volume,\n",
    "            'Bid Num of Orders': bid_number_of_orders,\n",
    "            'Cumulative Vol Ask': ask_cumulative_volume,\n",
    "            'Ask Num of Orders': ask_number_of_orders,}\n",
    "\n",
    "    return dict\n",
    "\n",
    "    # for i in orders.json()['bid']:\n",
    "    #     if orders.json()['bid']['trader-id'] != 'ANON':\n",
    "\n",
    "print(get_order_book_stats(session, 'ALGO', 100))"
   ]
  },
  {
   "cell_type": "code",
   "execution_count": null,
   "metadata": {},
   "outputs": [],
   "source": []
  },
  {
   "cell_type": "code",
   "execution_count": 2,
   "metadata": {},
   "outputs": [
    {
     "ename": "NameError",
     "evalue": "name 'get_order_book_stats' is not defined",
     "output_type": "error",
     "traceback": [
      "\u001b[1;31m---------------------------------------------------------------------------\u001b[0m",
      "\u001b[1;31mNameError\u001b[0m                                 Traceback (most recent call last)",
      "\u001b[1;32m~\\AppData\\Local\\Temp/ipykernel_27340/1605092637.py\u001b[0m in \u001b[0;36m<module>\u001b[1;34m\u001b[0m\n\u001b[1;32m----> 1\u001b[1;33m \u001b[0mprint\u001b[0m\u001b[1;33m(\u001b[0m\u001b[0mget_order_book_stats\u001b[0m\u001b[1;33m(\u001b[0m\u001b[0msession\u001b[0m\u001b[1;33m,\u001b[0m \u001b[1;34m'ALGO'\u001b[0m\u001b[1;33m,\u001b[0m \u001b[1;36m100\u001b[0m\u001b[1;33m)\u001b[0m\u001b[1;33m)\u001b[0m\u001b[1;33m\u001b[0m\u001b[1;33m\u001b[0m\u001b[0m\n\u001b[0m\u001b[0;32m      2\u001b[0m \u001b[1;33m\u001b[0m\u001b[0m\n\u001b[0;32m      3\u001b[0m \u001b[0mx\u001b[0m \u001b[1;33m=\u001b[0m \u001b[0mget_order_book_stats\u001b[0m\u001b[1;33m(\u001b[0m\u001b[0msession\u001b[0m\u001b[1;33m,\u001b[0m \u001b[1;34m'ALGO'\u001b[0m\u001b[1;33m,\u001b[0m \u001b[1;36m100\u001b[0m\u001b[1;33m)\u001b[0m\u001b[1;33m\u001b[0m\u001b[1;33m\u001b[0m\u001b[0m\n\u001b[0;32m      4\u001b[0m \u001b[1;33m\u001b[0m\u001b[0m\n\u001b[0;32m      5\u001b[0m \u001b[1;32mdef\u001b[0m \u001b[0mcalc_spread_cushion\u001b[0m\u001b[1;33m(\u001b[0m\u001b[0morder_books_stats\u001b[0m\u001b[1;33m)\u001b[0m\u001b[1;33m:\u001b[0m\u001b[1;33m\u001b[0m\u001b[1;33m\u001b[0m\u001b[0m\n",
      "\u001b[1;31mNameError\u001b[0m: name 'get_order_book_stats' is not defined"
     ]
    }
   ],
   "source": [
    "print(get_order_book_stats(session, 'ALGO', 100))\n",
    "\n",
    "x = get_order_book_stats(session, 'ALGO', 100)\n",
    "\n",
    "def calc_spread_cushion(order_books_stats):\n",
    "    bid_vol = order_books_stats['Cumulative Vol Bid']\n",
    "    ask_vol = order_books_stats['Cumulative Vol Ask']\n",
    "\n",
    "    reduction_factor = 20\n",
    "    price_cushion_factor = (bid_vol - ask_vol) / ask_vol / reduction_factor\n",
    "\n",
    "    return price_cushion_factor\n",
    "\n",
    "print(calc_spread_cushion(x))"
   ]
  },
  {
   "cell_type": "code",
   "execution_count": null,
   "metadata": {},
   "outputs": [],
   "source": [
    "def get_position(session, ticker):\n",
    "    positions = session.get('http://localhost:9999/v1/securities', params={'ticker': ticker})\n",
    "    position = positions.json()[0]['position']\n",
    "    return position\n",
    "\n",
    "print(get_position(session, 'ALGO'))"
   ]
  },
  {
   "cell_type": "code",
   "execution_count": null,
   "metadata": {},
   "outputs": [],
   "source": [
    "def get_orders(session, status):\n",
    "    payload = {'status': status}\n",
    "    resp = session.get('http://localhost:9999/v1/orders', params=payload)\n",
    "    if resp.status_code == 401:\n",
    "        raise ApiException('The API key provided in this Python code must match that in the RIT client (please refer to the API hyperlink in the client toolbar and/or the RIT – User Guide – REST API Documentation.pdf)')\n",
    "    orders = resp.json()\n",
    "    # for i in orders\n",
    "    return orders\n",
    "\n",
    "print(get_orders(session, 'OPEN'))"
   ]
  },
  {
   "cell_type": "code",
   "execution_count": 1,
   "metadata": {},
   "outputs": [
    {
     "data": {
      "text/plain": [
       "3"
      ]
     },
     "execution_count": 1,
     "metadata": {},
     "output_type": "execute_result"
    }
   ],
   "source": [
    "list = [1,2,3]\n",
    "len(list)"
   ]
  },
  {
   "cell_type": "code",
   "execution_count": 2,
   "metadata": {},
   "outputs": [
    {
     "name": "stdout",
     "output_type": "stream",
     "text": [
      "0\n",
      "1\n",
      "2\n",
      "3\n",
      "4\n"
     ]
    }
   ],
   "source": [
    "for i in range(5):\n",
    "    print(i)"
   ]
  },
  {
   "cell_type": "code",
   "execution_count": 8,
   "metadata": {},
   "outputs": [],
   "source": [
    "def get_orders(session, status):\n",
    "    payload = {'status': status}\n",
    "    resp = session.get('http://localhost:9999/v1/orders', params=payload)\n",
    "    if resp.status_code == 401:\n",
    "        raise ApiException('The API key provided in this Python code must match that in the RIT client (please refer to the API hyperlink in the client toolbar and/or the RIT – User Guide – REST API Documentation.pdf)')\n",
    "    orders = resp.json()\n",
    "    return orders\n",
    "\n",
    "orders = get_orders(session, 'OPEN')\n"
   ]
  },
  {
   "cell_type": "code",
   "execution_count": 71,
   "metadata": {},
   "outputs": [
    {
     "name": "stdout",
     "output_type": "stream",
     "text": [
      "[{'order_id': 11034, 'period': 1, 'tick': 140, 'trader_id': 'L', 'ticker': 'AC', 'quantity': 100.0, 'price': 18.0, 'type': 'LIMIT', 'action': 'BUY', 'quantity_filled': 0.0, 'vwap': None, 'status': 'OPEN'}, {'order_id': 10991, 'period': 1, 'tick': 140, 'trader_id': 'L', 'ticker': 'RY', 'quantity': 100.0, 'price': 18.0, 'type': 'LIMIT', 'action': 'BUY', 'quantity_filled': 0.0, 'vwap': None, 'status': 'OPEN'}, {'order_id': 10953, 'period': 1, 'tick': 139, 'trader_id': 'L', 'ticker': 'CNR', 'quantity': 100.0, 'price': 18.0, 'type': 'LIMIT', 'action': 'BUY', 'quantity_filled': 0.0, 'vwap': None, 'status': 'OPEN'}]\n"
     ]
    }
   ],
   "source": [
    "session.post('http://localhost:9999/v1/orders', params={'ticker': 'CNR', 'type': 'LIMIT', 'price': 18.00, 'quantity': 100, 'action': 'BUY'})\n",
    "sleep(.5)\n",
    "session.post('http://localhost:9999/v1/orders', params={'ticker': 'RY', 'type': 'LIMIT', 'price': 18.00, 'quantity': 100, 'action': 'BUY'})\n",
    "sleep(.5)\n",
    "session.post('http://localhost:9999/v1/orders', params={'ticker': 'AC', 'type': 'LIMIT', 'price': 18.00, 'quantity': 100, 'action': 'BUY'})\n",
    "sleep(.5)\n",
    "\n",
    "orders = session.get('http://localhost:9999/v1/orders', params={'status': 'OPEN'})\n",
    "orders = orders.json()\n",
    "print(orders)"
   ]
  },
  {
   "cell_type": "code",
   "execution_count": 77,
   "metadata": {},
   "outputs": [
    {
     "name": "stdout",
     "output_type": "stream",
     "text": [
      "[{'order_id': 11034, 'period': 1, 'tick': 140, 'trader_id': 'L', 'ticker': 'AC', 'quantity': 100.0, 'price': 18.0, 'type': 'LIMIT', 'action': 'BUY', 'quantity_filled': 0.0, 'vwap': None, 'status': 'OPEN'}]\n",
      "[{'order_id': 10991, 'period': 1, 'tick': 140, 'trader_id': 'L', 'ticker': 'RY', 'quantity': 100.0, 'price': 18.0, 'type': 'LIMIT', 'action': 'BUY', 'quantity_filled': 0.0, 'vwap': None, 'status': 'OPEN'}]\n",
      "[{'order_id': 10953, 'period': 1, 'tick': 139, 'trader_id': 'L', 'ticker': 'CNR', 'quantity': 100.0, 'price': 18.0, 'type': 'LIMIT', 'action': 'BUY', 'quantity_filled': 0.0, 'vwap': None, 'status': 'OPEN'}]\n"
     ]
    }
   ],
   "source": [
    "cnr_orders = []\n",
    "ac_orders = []\n",
    "ry_orders = []\n",
    "order_index = 0\n",
    "\n",
    "for i in orders:\n",
    "    if orders[order_index]['ticker'] == 'AC':\n",
    "        ac_orders.append(orders[order_index])\n",
    "    if orders[order_index]['ticker'] == 'RY':\n",
    "        ry_orders.append(orders[order_index])\n",
    "    if orders[order_index]['ticker'] == 'CNR':\n",
    "        cnr_orders.append(orders[order_index])\n",
    "    order_index += 1\n",
    "\n",
    "print(ac_orders)\n",
    "print(ry_orders)\n",
    "print(cnr_orders)"
   ]
  },
  {
   "cell_type": "code",
   "execution_count": 57,
   "metadata": {},
   "outputs": [
    {
     "name": "stdout",
     "output_type": "stream",
     "text": [
      "44\n",
      "43\n",
      "42\n",
      "41\n",
      "40\n",
      "39\n",
      "38\n",
      "37\n",
      "36\n",
      "35\n",
      "34\n",
      "33\n",
      "32\n",
      "31\n",
      "30\n",
      "29\n",
      "28\n",
      "27\n",
      "26\n",
      "25\n",
      "24\n",
      "23\n",
      "22\n",
      "21\n",
      "20\n",
      "19\n",
      "18\n",
      "17\n",
      "16\n",
      "15\n",
      "14\n",
      "13\n",
      "12\n"
     ]
    }
   ],
   "source": [
    " \n",
    "for i in range(15):\n",
    "    session.post('http://localhost:9999/v1/orders', params={'ticker': 'ALGO', 'type': 'LIMIT', 'price': 18.00, 'quantity': 100, 'action': 'BUY'})\n",
    "    sleep(.25)\n",
    "\n",
    "orders = get_orders(session, 'OPEN')\n",
    "# print(orders)\n",
    "order_len = len(orders)\n",
    "\n",
    "if len(orders) >= 12:\n",
    "                \n",
    "    order_cancel_length = order_len - 12\n",
    "    order_id_list = []\n",
    "\n",
    "    for i in range(order_cancel_length):\n",
    "        int_i = int(i)\n",
    "        location = order_len - int_i - 1\n",
    "        int(location)\n",
    "        print(location)\n",
    "        order_id = orders[location]['order_id']\n",
    "        order_id_list.append(order_id)\n",
    "\n",
    "    session.post('http://localhost:9999/v1/commands/cancel', params={'all': 0, 'ticker': 'ALGO', 'ids': order_id_list})    # {}'.format(order_idf))\n",
    "                \n",
    "                \n",
    "    # print(\"this order has been cancelled\")"
   ]
  },
  {
   "cell_type": "code",
   "execution_count": 64,
   "metadata": {},
   "outputs": [
    {
     "data": {
      "text/plain": [
       "<Response [200]>"
      ]
     },
     "execution_count": 64,
     "metadata": {},
     "output_type": "execute_result"
    }
   ],
   "source": [
    "session.post('http://localhost:9999/v1/orders', params={'ticker': 'CNR', 'type': 'MARKET', 'quantity': 9000, 'action': 'SELL'})"
   ]
  },
  {
   "cell_type": "code",
   "execution_count": 52,
   "metadata": {},
   "outputs": [
    {
     "name": "stdout",
     "output_type": "stream",
     "text": [
      "[{'order_id': 164, 'period': 1, 'tick': 22, 'trader_id': 'ahill3', 'ticker': 'ALGO', 'quantity': 100.0, 'price': 18.0, 'type': 'LIMIT', 'action': 'BUY', 'quantity_filled': 0.0, 'vwap': None, 'status': 'OPEN'}, {'order_id': 162, 'period': 1, 'tick': 22, 'trader_id': 'ahill3', 'ticker': 'ALGO', 'quantity': 100.0, 'price': 18.0, 'type': 'LIMIT', 'action': 'BUY', 'quantity_filled': 0.0, 'vwap': None, 'status': 'OPEN'}, {'order_id': 161, 'period': 1, 'tick': 21, 'trader_id': 'ahill3', 'ticker': 'ALGO', 'quantity': 100.0, 'price': 18.0, 'type': 'LIMIT', 'action': 'BUY', 'quantity_filled': 0.0, 'vwap': None, 'status': 'OPEN'}, {'order_id': 159, 'period': 1, 'tick': 21, 'trader_id': 'ahill3', 'ticker': 'ALGO', 'quantity': 100.0, 'price': 18.0, 'type': 'LIMIT', 'action': 'BUY', 'quantity_filled': 0.0, 'vwap': None, 'status': 'OPEN'}, {'order_id': 157, 'period': 1, 'tick': 21, 'trader_id': 'ahill3', 'ticker': 'ALGO', 'quantity': 100.0, 'price': 18.0, 'type': 'LIMIT', 'action': 'BUY', 'quantity_filled': 0.0, 'vwap': None, 'status': 'OPEN'}, {'order_id': 155, 'period': 1, 'tick': 21, 'trader_id': 'ahill3', 'ticker': 'ALGO', 'quantity': 100.0, 'price': 18.0, 'type': 'LIMIT', 'action': 'BUY', 'quantity_filled': 0.0, 'vwap': None, 'status': 'OPEN'}, {'order_id': 149, 'period': 1, 'tick': 20, 'trader_id': 'ahill3', 'ticker': 'ALGO', 'quantity': 100.0, 'price': 18.0, 'type': 'LIMIT', 'action': 'BUY', 'quantity_filled': 0.0, 'vwap': None, 'status': 'OPEN'}, {'order_id': 147, 'period': 1, 'tick': 20, 'trader_id': 'ahill3', 'ticker': 'ALGO', 'quantity': 100.0, 'price': 18.0, 'type': 'LIMIT', 'action': 'BUY', 'quantity_filled': 0.0, 'vwap': None, 'status': 'OPEN'}, {'order_id': 145, 'period': 1, 'tick': 20, 'trader_id': 'ahill3', 'ticker': 'ALGO', 'quantity': 100.0, 'price': 18.0, 'type': 'LIMIT', 'action': 'BUY', 'quantity_filled': 0.0, 'vwap': None, 'status': 'OPEN'}, {'order_id': 143, 'period': 1, 'tick': 19, 'trader_id': 'ahill3', 'ticker': 'ALGO', 'quantity': 100.0, 'price': 18.0, 'type': 'LIMIT', 'action': 'BUY', 'quantity_filled': 0.0, 'vwap': None, 'status': 'OPEN'}, {'order_id': 141, 'period': 1, 'tick': 19, 'trader_id': 'ahill3', 'ticker': 'ALGO', 'quantity': 100.0, 'price': 18.0, 'type': 'LIMIT', 'action': 'BUY', 'quantity_filled': 0.0, 'vwap': None, 'status': 'OPEN'}, {'order_id': 139, 'period': 1, 'tick': 19, 'trader_id': 'ahill3', 'ticker': 'ALGO', 'quantity': 100.0, 'price': 18.0, 'type': 'LIMIT', 'action': 'BUY', 'quantity_filled': 0.0, 'vwap': None, 'status': 'OPEN'}, {'order_id': 133, 'period': 1, 'tick': 19, 'trader_id': 'ahill3', 'ticker': 'ALGO', 'quantity': 100.0, 'price': 18.0, 'type': 'LIMIT', 'action': 'BUY', 'quantity_filled': 0.0, 'vwap': None, 'status': 'OPEN'}, {'order_id': 131, 'period': 1, 'tick': 18, 'trader_id': 'ahill3', 'ticker': 'ALGO', 'quantity': 100.0, 'price': 18.0, 'type': 'LIMIT', 'action': 'BUY', 'quantity_filled': 0.0, 'vwap': None, 'status': 'OPEN'}, {'order_id': 129, 'period': 1, 'tick': 18, 'trader_id': 'ahill3', 'ticker': 'ALGO', 'quantity': 100.0, 'price': 18.0, 'type': 'LIMIT', 'action': 'BUY', 'quantity_filled': 0.0, 'vwap': None, 'status': 'OPEN'}, {'order_id': 95, 'period': 1, 'tick': 10, 'trader_id': 'ahill3', 'ticker': 'ALGO', 'quantity': 100.0, 'price': 18.0, 'type': 'LIMIT', 'action': 'BUY', 'quantity_filled': 0.0, 'vwap': None, 'status': 'OPEN'}, {'order_id': 93, 'period': 1, 'tick': 10, 'trader_id': 'ahill3', 'ticker': 'ALGO', 'quantity': 100.0, 'price': 18.0, 'type': 'LIMIT', 'action': 'BUY', 'quantity_filled': 0.0, 'vwap': None, 'status': 'OPEN'}, {'order_id': 91, 'period': 1, 'tick': 10, 'trader_id': 'ahill3', 'ticker': 'ALGO', 'quantity': 100.0, 'price': 18.0, 'type': 'LIMIT', 'action': 'BUY', 'quantity_filled': 0.0, 'vwap': None, 'status': 'OPEN'}, {'order_id': 90, 'period': 1, 'tick': 10, 'trader_id': 'ahill3', 'ticker': 'ALGO', 'quantity': 100.0, 'price': 18.0, 'type': 'LIMIT', 'action': 'BUY', 'quantity_filled': 0.0, 'vwap': None, 'status': 'OPEN'}, {'order_id': 88, 'period': 1, 'tick': 9, 'trader_id': 'ahill3', 'ticker': 'ALGO', 'quantity': 100.0, 'price': 18.0, 'type': 'LIMIT', 'action': 'BUY', 'quantity_filled': 0.0, 'vwap': None, 'status': 'OPEN'}, {'order_id': 86, 'period': 1, 'tick': 9, 'trader_id': 'ahill3', 'ticker': 'ALGO', 'quantity': 100.0, 'price': 18.0, 'type': 'LIMIT', 'action': 'BUY', 'quantity_filled': 0.0, 'vwap': None, 'status': 'OPEN'}, {'order_id': 85, 'period': 1, 'tick': 9, 'trader_id': 'ahill3', 'ticker': 'ALGO', 'quantity': 100.0, 'price': 18.0, 'type': 'LIMIT', 'action': 'BUY', 'quantity_filled': 0.0, 'vwap': None, 'status': 'OPEN'}, {'order_id': 83, 'period': 1, 'tick': 9, 'trader_id': 'ahill3', 'ticker': 'ALGO', 'quantity': 100.0, 'price': 18.0, 'type': 'LIMIT', 'action': 'BUY', 'quantity_filled': 0.0, 'vwap': None, 'status': 'OPEN'}, {'order_id': 81, 'period': 1, 'tick': 8, 'trader_id': 'ahill3', 'ticker': 'ALGO', 'quantity': 100.0, 'price': 18.0, 'type': 'LIMIT', 'action': 'BUY', 'quantity_filled': 0.0, 'vwap': None, 'status': 'OPEN'}, {'order_id': 79, 'period': 1, 'tick': 8, 'trader_id': 'ahill3', 'ticker': 'ALGO', 'quantity': 100.0, 'price': 18.0, 'type': 'LIMIT', 'action': 'BUY', 'quantity_filled': 0.0, 'vwap': None, 'status': 'OPEN'}, {'order_id': 78, 'period': 1, 'tick': 8, 'trader_id': 'ahill3', 'ticker': 'ALGO', 'quantity': 100.0, 'price': 18.0, 'type': 'LIMIT', 'action': 'BUY', 'quantity_filled': 0.0, 'vwap': None, 'status': 'OPEN'}, {'order_id': 76, 'period': 1, 'tick': 8, 'trader_id': 'ahill3', 'ticker': 'ALGO', 'quantity': 100.0, 'price': 18.0, 'type': 'LIMIT', 'action': 'BUY', 'quantity_filled': 0.0, 'vwap': None, 'status': 'OPEN'}, {'order_id': 74, 'period': 1, 'tick': 7, 'trader_id': 'ahill3', 'ticker': 'ALGO', 'quantity': 100.0, 'price': 18.0, 'type': 'LIMIT', 'action': 'BUY', 'quantity_filled': 0.0, 'vwap': None, 'status': 'OPEN'}, {'order_id': 72, 'period': 1, 'tick': 7, 'trader_id': 'ahill3', 'ticker': 'ALGO', 'quantity': 100.0, 'price': 18.0, 'type': 'LIMIT', 'action': 'BUY', 'quantity_filled': 0.0, 'vwap': None, 'status': 'OPEN'}, {'order_id': 71, 'period': 1, 'tick': 7, 'trader_id': 'ahill3', 'ticker': 'ALGO', 'quantity': 100.0, 'price': 18.0, 'type': 'LIMIT', 'action': 'BUY', 'quantity_filled': 0.0, 'vwap': None, 'status': 'OPEN'}]\n"
     ]
    }
   ],
   "source": [
    "type(orders)\n",
    "print(orders)"
   ]
  }
 ],
 "metadata": {
  "kernelspec": {
   "display_name": "Python 3.9.13 64-bit (microsoft store)",
   "language": "python",
   "name": "python3"
  },
  "language_info": {
   "codemirror_mode": {
    "name": "ipython",
    "version": 3
   },
   "file_extension": ".py",
   "mimetype": "text/x-python",
   "name": "python",
   "nbconvert_exporter": "python",
   "pygments_lexer": "ipython3",
   "version": "3.9.13"
  },
  "orig_nbformat": 4,
  "vscode": {
   "interpreter": {
    "hash": "8f2b8f7d7da3b55c8640ff0ad5b752ba61ffdffe564a4378c820bcd9964834b8"
   }
  }
 },
 "nbformat": 4,
 "nbformat_minor": 2
}
